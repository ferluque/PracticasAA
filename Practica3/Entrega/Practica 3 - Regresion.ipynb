{
  "cells": [
    {
      "cell_type": "markdown",
      "metadata": {
        "id": "9kIN1D7fj3w_"
      },
      "source": [
        "# Inicialización"
      ]
    },
    {
      "cell_type": "code",
      "execution_count": null,
      "metadata": {
        "colab": {
          "base_uri": "https://localhost:8080/"
        },
        "id": "f9A57GNFTE-b",
        "outputId": "c70c4ae1-a49b-45aa-e0b8-b507a740c024"
      },
      "outputs": [
        {
          "name": "stdout",
          "output_type": "stream",
          "text": [
            "Conjunto de training:  (412275, 90)  //  (412275,)\n",
            "Conjunto de test:  (103069, 90)  //  (103069,)\n"
          ]
        }
      ],
      "source": [
        "import sklearn\n",
        "import pandas\n",
        "import numpy as np\n",
        "\n",
        "file = \"/content/drive/MyDrive/3º GII/2Cuatri/AA/Praticas/Practica3/Regresion/data/YearPredictionMSD.txt\"\n",
        "\n",
        "X = pandas.read_csv(file, sep=\",\")\n",
        "\n",
        "X = X.to_numpy()\n",
        "\n",
        "y = X[:,0]\n",
        "\n",
        "X = X[:,1:]\n",
        "\n",
        "from sklearn.model_selection import train_test_split\n",
        "\n",
        "# Conjuntos de train y test\n",
        "x_train,x_test,y_train,y_test = train_test_split(X,y,test_size=0.2)\n",
        "\n",
        "print(\"Conjunto de training: \",x_train.shape, \" // \", y_train.shape)\n",
        "print(\"Conjunto de test: \",x_test.shape, \" // \", y_test.shape)"
      ]
    },
    {
      "cell_type": "code",
      "execution_count": null,
      "metadata": {
        "id": "BH9AGRiSWvhu"
      },
      "outputs": [],
      "source": [
        "pandas.DataFrame(x_test).to_csv(\"/content/drive/MyDrive/3º GII/2Cuatri/AA/Praticas/Practica3/Regresion/data/X_test.csv\")\n",
        "pandas.DataFrame(y_test).to_csv(\"/content/drive/MyDrive/3º GII/2Cuatri/AA/Praticas/Practica3/Regresion/data/y_test.csv\")"
      ]
    },
    {
      "cell_type": "code",
      "execution_count": null,
      "metadata": {
        "id": "VI4O6n9RXJj6"
      },
      "outputs": [],
      "source": [
        "pandas.DataFrame(x_train).to_csv(\"/content/drive/MyDrive/3º GII/2Cuatri/AA/Praticas/Practica3/Regresion/data/X_train.csv\")\n",
        "pandas.DataFrame(y_train).to_csv(\"/content/drive/MyDrive/3º GII/2Cuatri/AA/Praticas/Practica3/Regresion/data/y_train.csv\")"
      ]
    },
    {
      "cell_type": "code",
      "execution_count": null,
      "metadata": {
        "colab": {
          "base_uri": "https://localhost:8080/"
        },
        "id": "fGajOeojPwyR",
        "outputId": "e6e31c93-6440-4e0c-ddf8-08979fb3529b"
      },
      "outputs": [
        {
          "output_type": "stream",
          "name": "stdout",
          "text": [
            "(412275, 90)\n",
            "(412275,)\n"
          ]
        }
      ],
      "source": [
        "import pandas\n",
        "X = pandas.read_csv(\"/content/drive/MyDrive/3º GII/2Cuatri/AA/Praticas/Practica3/Regresion/data/X_train.csv\").to_numpy()[:,1:]\n",
        "y = pandas.read_csv(\"/content/drive/MyDrive/3º GII/2Cuatri/AA/Praticas/Practica3/Regresion/data/y_train.csv\").to_numpy()[:,1:].transpose()[0]\n",
        "\n",
        "print(X.shape)\n",
        "print(y.shape)"
      ]
    },
    {
      "cell_type": "markdown",
      "metadata": {
        "id": "q0d6h-qLUwTd"
      },
      "source": [
        "# Análisis de datos"
      ]
    },
    {
      "cell_type": "markdown",
      "metadata": {
        "id": "56-0ZHmXeUxp"
      },
      "source": [
        "## Canciones por año"
      ]
    },
    {
      "cell_type": "code",
      "execution_count": null,
      "metadata": {
        "colab": {
          "base_uri": "https://localhost:8080/",
          "height": 383
        },
        "id": "U-wQR0L1eXWX",
        "outputId": "978faab1-7ac9-48a1-fb53-c9cef0024478"
      },
      "outputs": [
        {
          "data": {
            "text/plain": [
              "(array([2.12000e+02, 1.82000e+02, 2.40000e+02, 1.62200e+03, 5.75300e+03,\n",
              "        1.58600e+04, 2.19040e+04, 4.89740e+04, 1.22587e+05, 1.94941e+05]),\n",
              " array([1922. , 1930.9, 1939.8, 1948.7, 1957.6, 1966.5, 1975.4, 1984.3,\n",
              "        1993.2, 2002.1, 2011. ]),\n",
              " <a list of 10 Patch objects>)"
            ]
          },
          "execution_count": 6,
          "metadata": {},
          "output_type": "execute_result"
        },
        {
          "data": {
            "image/png": "[encoded data removed]",
            "text/plain": [
              "<Figure size 432x288 with 1 Axes>"
            ]
          },
          "metadata": {},
          "output_type": "display_data"
        }
      ],
      "source": [
        "import matplotlib.pyplot as plt\n",
        "\n",
        "plt.title(\"Cantidad de canciones por año de cada clase\")\n",
        "plt.ylabel(\"Número de canciones\")\n",
        "plt.xlabel(\"Año de publicación\")\n",
        "plt.hist(y)"
      ]
    },
    {
      "cell_type": "code",
      "execution_count": null,
      "metadata": {
        "colab": {
          "base_uri": "https://localhost:8080/"
        },
        "id": "xks5hOUcejy7",
        "outputId": "da537b8b-450a-4f2b-d20f-ea20f70bf511"
      },
      "outputs": [
        {
          "name": "stdout",
          "output_type": "stream",
          "text": [
            "[1922. 1924. 1925. 1926. 1927. 1928. 1929. 1930. 1931. 1932. 1933. 1934.\n",
            " 1935. 1936. 1937. 1938. 1939. 1940. 1941. 1942. 1943. 1944. 1945. 1946.\n",
            " 1947. 1948. 1949. 1950. 1951. 1952. 1953. 1954. 1955. 1956. 1957. 1958.\n",
            " 1959. 1960. 1961. 1962. 1963. 1964. 1965. 1966. 1967. 1968. 1969. 1970.\n",
            " 1971. 1972. 1973. 1974. 1975. 1976. 1977. 1978. 1979. 1980. 1981. 1982.\n",
            " 1983. 1984. 1985. 1986. 1987. 1988. 1989. 1990. 1991. 1992. 1993. 1994.\n",
            " 1995. 1996. 1997. 1998. 1999. 2000. 2001. 2002. 2003. 2004. 2005. 2006.\n",
            " 2007. 2008. 2009. 2010. 2011.]\n"
          ]
        }
      ],
      "source": [
        "print(np.unique(y))"
      ]
    },
    {
      "cell_type": "markdown",
      "metadata": {
        "id": "ekVikQPXld5_"
      },
      "source": [
        "## Resumen de variables"
      ]
    },
    {
      "cell_type": "code",
      "execution_count": null,
      "metadata": {
        "id": "bE5RMhOeldsk"
      },
      "outputs": [],
      "source": [
        "for i in range(len(X[0])):\n",
        "  print(\"Variable \",i,\": Media: \",np.average(X[:,i]),\" // Desv. tipica: \",np.std(X[:,i]))"
      ]
    },
    {
      "cell_type": "markdown",
      "metadata": {
        "id": "YgfTYM3uhgt9"
      },
      "source": [
        "# Escalado"
      ]
    },
    {
      "cell_type": "code",
      "source": [
        "import time\n",
        "\n",
        "print(time.time(),time.process_time())\n",
        "time.sleep(1)\n",
        "print(time.time(),time.process_time())"
      ],
      "metadata": {
        "colab": {
          "base_uri": "https://localhost:8080/"
        },
        "id": "W7ijpPkdEfuO",
        "outputId": "054bd0ec-bfba-476e-c3ad-f1c03c92666f"
      },
      "execution_count": null,
      "outputs": [
        {
          "output_type": "stream",
          "name": "stdout",
          "text": [
            "1653899195.2648559 31.820167555\n",
            "1653899196.2768848 31.837260824\n"
          ]
        }
      ]
    },
    {
      "cell_type": "markdown",
      "source": [
        "Analizamos cuál es la mejor normalización entre minmax y standard"
      ],
      "metadata": {
        "id": "RtiuuZRADWWE"
      }
    },
    {
      "cell_type": "code",
      "source": [
        "from sklearn.preprocessing import StandardScaler\n",
        "from sklearn.preprocessing import MinMaxScaler\n",
        "from sklearn.model_selection import cross_val_score\n",
        "from sklearn.linear_model import SGDRegressor\n",
        "import numpy as np\n",
        "import time\n",
        "\n",
        "E_vals = {\"std\": 0.0, \"min_max\": 0.0}\n",
        "tiempos = {\"std\": 0.0, \"min_max\": 0.0}\n",
        "\n",
        "# cross_validation con standard scaler\n",
        "scalerstd = StandardScaler()\n",
        "scalerstd.fit(X)\n",
        "X_std = scalerstd.transform(X)\n",
        "## Los parámetros de SGDRegressor se ajustarán y/o se justificarán posteriormente\n",
        "inicio = time.process_time()\n",
        "E_vals[\"std\"] = -cross_val_score(SGDRegressor(), X_std,y,scoring='neg_mean_squared_error').mean()\n",
        "end = time.process_time()\n",
        "tiempos[\"std\"] = (end-inicio)"
      ],
      "metadata": {
        "id": "bS0hny6qDaDf"
      },
      "execution_count": null,
      "outputs": []
    },
    {
      "cell_type": "code",
      "source": [
        "# CV con minmax\n",
        "scalerminmax = MinMaxScaler()\n",
        "scalerminmax.fit(X)\n",
        "X_minmax = scalerminmax.transform(X)\n",
        "inicio = time.process_time()\n",
        "E_vals[\"min_max\"] = -cross_val_score(SGDRegressor(), X_minmax,y,scoring='neg_mean_squared_error').mean()\n",
        "end = time.process_time()\n",
        "tiempos[\"min_max\"] = (end-inicio)"
      ],
      "metadata": {
        "id": "qNhALluADpGp"
      },
      "execution_count": null,
      "outputs": []
    },
    {
      "cell_type": "code",
      "source": [
        "E_vals[\"min_max\"] = E_vals[\"std\"]\n",
        "tiempos[\"min_max\"] = tiempos[\"std\"]\n",
        "inicio = time.process_time()\n",
        "E_vals[\"std\"] = -cross_val_score(SGDRegressor(), X_std,y,scoring='neg_mean_squared_error').mean()\n",
        "fin = time.process_time()\n",
        "tiempos[\"std\"] = (fin-inicio)"
      ],
      "metadata": {
        "id": "aluDJXeaLaMT"
      },
      "execution_count": null,
      "outputs": []
    },
    {
      "cell_type": "code",
      "execution_count": null,
      "metadata": {
        "colab": {
          "base_uri": "https://localhost:8080/",
          "height": 313
        },
        "id": "NZt1BREIhgZA",
        "outputId": "4614a19d-fab1-40c3-8318-674394c3867b"
      },
      "outputs": [
        {
          "output_type": "execute_result",
          "data": {
            "text/plain": [
              "<BarContainer object of 2 artists>"
            ]
          },
          "metadata": {},
          "execution_count": 15
        },
        {
          "output_type": "display_data",
          "data": {
            "text/plain": [
              "<Figure size 432x288 with 1 Axes>"
            ],
            "image/png": "[encoded data removed]"
          },
          "metadata": {
            "needs_background": "light"
          }
        }
      ],
      "source": [
        "import matplotlib.pyplot as plt\n",
        "\n",
        "plt.title(\"Errores de validación con cada escalado\")\n",
        "plt.xlabel(\"Escalados\")\n",
        "plt.ylabel(\"Errores\")\n",
        "plt.bar(list(E_vals.keys()),E_vals.values())"
      ]
    },
    {
      "cell_type": "code",
      "source": [
        "plt.title(\"Tiempos de ejecución con cada escalado\")\n",
        "plt.xlabel(\"Escalados\")\n",
        "plt.ylabel(\"Tiempo de ejecución (s)\")\n",
        "plt.bar(list(tiempos.keys()),tiempos.values())"
      ],
      "metadata": {
        "colab": {
          "base_uri": "https://localhost:8080/",
          "height": 313
        },
        "id": "DGOujETLCxZD",
        "outputId": "9d0b7d29-5500-483a-9d20-a54372878006"
      },
      "execution_count": null,
      "outputs": [
        {
          "output_type": "execute_result",
          "data": {
            "text/plain": [
              "<BarContainer object of 2 artists>"
            ]
          },
          "metadata": {},
          "execution_count": 16
        },
        {
          "output_type": "display_data",
          "data": {
            "text/plain": [
              "<Figure size 432x288 with 1 Axes>"
            ],
            "image/png": "[encoded data removed]"
          },
          "metadata": {
            "needs_background": "light"
          }
        }
      ]
    },
    {
      "cell_type": "code",
      "source": [
        "X = X_std"
      ],
      "metadata": {
        "id": "IlozraA1M05t"
      },
      "execution_count": null,
      "outputs": []
    },
    {
      "cell_type": "markdown",
      "source": [
        "# Reducción de dimensionalidad"
      ],
      "metadata": {
        "id": "F2FhLJ3nlge5"
      }
    },
    {
      "cell_type": "code",
      "execution_count": null,
      "metadata": {
        "id": "oFhqkOrvTOrF"
      },
      "outputs": [],
      "source": [
        "from sklearn.decomposition import PCA\n",
        "from sklearn.linear_model import SGDRegressor\n",
        "from sklearn.model_selection import cross_val_score\n",
        "import time\n",
        "\n",
        "Evals = []\n",
        "xs = []\n",
        "times = []\n",
        "\n",
        "for i in range(11):\n",
        "  pca = PCA(n_components=(0.9+(i/100)))\n",
        "  pca.fit(X)\n",
        "  X_i = pca.transform(X)\n",
        "  start = time.process_time()\n",
        "  Evals.append(-cross_val_score(SGDRegressor(), X_i, y, scoring='neg_mean_squared_error').mean())\n",
        "  end = time.process_time()\n",
        "  times.append((end-start))\n",
        "  xs.append(0.9+(i/100))"
      ]
    },
    {
      "cell_type": "code",
      "source": [
        "start = time.process_time()\n",
        "Evals.append(-cross_val_score(SGDRegressor(), X, y, scoring='neg_mean_squared_error').mean())\n",
        "end = time.process_time()\n",
        "times.append(end-start)\n",
        "xs.append(1)"
      ],
      "metadata": {
        "id": "UFbJqdSYQd4d"
      },
      "execution_count": null,
      "outputs": []
    },
    {
      "cell_type": "code",
      "source": [
        "import matplotlib.pyplot as plt\n",
        "\n",
        "plt.title(\"Error obtenido según porcentaje de variables\")\n",
        "plt.xlabel(\"Tanto por uno de explicación de la varianza con variables obtenidas\")\n",
        "plt.ylabel(\"Error obtenido\")\n",
        "plt.plot(xs,Evals)"
      ],
      "metadata": {
        "colab": {
          "base_uri": "https://localhost:8080/",
          "height": 313
        },
        "id": "pQ6GZmwqnmKg",
        "outputId": "6e5ebf36-aae0-418e-e74c-b18eacf36b73"
      },
      "execution_count": null,
      "outputs": [
        {
          "output_type": "execute_result",
          "data": {
            "text/plain": [
              "[<matplotlib.lines.Line2D at 0x7f793d879d10>]"
            ]
          },
          "metadata": {},
          "execution_count": 25
        },
        {
          "output_type": "display_data",
          "data": {
            "text/plain": [
              "<Figure size 432x288 with 1 Axes>"
            ],
            "image/png": "[encoded data removed]"
          },
          "metadata": {
            "needs_background": "light"
          }
        }
      ]
    },
    {
      "cell_type": "code",
      "source": [
        "plt.title(\"Tiempo de ejecución del cross_validation según porcentaje de variables\")\n",
        "plt.xlabel(\"Porcentaje de explicación de la varianza con variables obtenidas\")\n",
        "plt.ylabel(\"Tiempo de ejecución (s)\")\n",
        "plt.plot(xs,times)"
      ],
      "metadata": {
        "colab": {
          "base_uri": "https://localhost:8080/",
          "height": 313
        },
        "id": "myseZ6L0p_cD",
        "outputId": "0b94da9a-f434-4fc0-d94c-deafabb18992"
      },
      "execution_count": null,
      "outputs": [
        {
          "output_type": "execute_result",
          "data": {
            "text/plain": [
              "[<matplotlib.lines.Line2D at 0x7f793d7f2290>]"
            ]
          },
          "metadata": {},
          "execution_count": 26
        },
        {
          "output_type": "display_data",
          "data": {
            "text/plain": [
              "<Figure size 432x288 with 1 Axes>"
            ],
            "image/png": "[encoded data removed]"
          },
          "metadata": {
            "needs_background": "light"
          }
        }
      ]
    },
    {
      "cell_type": "code",
      "source": [
        "from sklearn.decomposition import PCA\n",
        "\n",
        "pca = PCA(n_components=0.98)\n",
        "pca.fit(X)\n",
        "X = pca.transform(X)"
      ],
      "metadata": {
        "id": "ZNO5TySRS_NO"
      },
      "execution_count": null,
      "outputs": []
    },
    {
      "cell_type": "code",
      "source": [
        "print(X.shape)"
      ],
      "metadata": {
        "colab": {
          "base_uri": "https://localhost:8080/"
        },
        "id": "4Lme0ng1TL7L",
        "outputId": "5544abef-11de-452d-ac57-ff45dae02a61"
      },
      "execution_count": null,
      "outputs": [
        {
          "output_type": "stream",
          "name": "stdout",
          "text": [
            "(412275, 77)\n"
          ]
        }
      ]
    },
    {
      "cell_type": "code",
      "source": [
        "pandas.DataFrame(X).to_csv(\"/content/drive/MyDrive/3º GII/2Cuatri/AA/Praticas/Practica3/Regresion/data/X_train_reduced_scaled.csv\")"
      ],
      "metadata": {
        "id": "9DRcqz40TWRM"
      },
      "execution_count": null,
      "outputs": []
    },
    {
      "cell_type": "markdown",
      "source": [
        "# Ajuste de hiperparámetros\n"
      ],
      "metadata": {
        "id": "DgQoAbtFVnRw"
      }
    },
    {
      "cell_type": "code",
      "source": [
        "import pandas\n",
        "X = pandas.read_csv(\"/content/drive/MyDrive/3º GII/2Cuatri/AA/Praticas/Practica3/Regresion/data/X_train_reduced_scaled.csv\").to_numpy()[:,1:]\n",
        "y = pandas.read_csv(\"/content/drive/MyDrive/3º GII/2Cuatri/AA/Praticas/Practica3/Regresion/data/y_train.csv\").to_numpy()[:,1:].transpose()[0]\n",
        "\n",
        "print(X.shape)\n",
        "print(y.shape)"
      ],
      "metadata": {
        "colab": {
          "base_uri": "https://localhost:8080/"
        },
        "id": "yxNf4bMldwhD",
        "outputId": "fb3914f2-5bd2-4713-e49b-a8248a7eb113"
      },
      "execution_count": null,
      "outputs": [
        {
          "output_type": "stream",
          "name": "stdout",
          "text": [
            "(412275, 77)\n",
            "(412275,)\n"
          ]
        }
      ]
    },
    {
      "cell_type": "markdown",
      "source": [
        "## Max iter"
      ],
      "metadata": {
        "id": "-GTH9WpRdk0I"
      }
    },
    {
      "cell_type": "code",
      "source": [
        "from sklearn.model_selection import cross_val_score\n",
        "from sklearn.linear_model import SGDRegressor\n",
        "import time\n",
        "\n",
        "E_vals_iters = []\n",
        "times_iters = []\n",
        "max_iter = 1e2\n",
        "xs_iter = []\n",
        "\n",
        "for i in range(5):\n",
        "  inicio = time.time()\n",
        "  E_vals_iters.append(-cross_val_score(SGDRegressor(max_iter=max_iter),X,y,scoring='neg_mean_squared_error',n_jobs=-1).mean())\n",
        "  fin = time.time()\n",
        "  times_iters.append(fin-inicio)\n",
        "  xs_iter.append(max_iter)\n",
        "  max_iter*=10"
      ],
      "metadata": {
        "id": "9k09tbZ6dk0J"
      },
      "execution_count": null,
      "outputs": []
    },
    {
      "cell_type": "code",
      "source": [
        "import matplotlib.pyplot as plt\n",
        "\n",
        "plt.title(\"MSE en función del número de iteraciones máximas\")\n",
        "plt.xlabel(\"Max_iter\")\n",
        "plt.ylabel(\"MSE\")\n",
        "plt.xscale(\"log\")\n",
        "plt.plot(xs_iter,E_vals_iters)"
      ],
      "metadata": {
        "colab": {
          "base_uri": "https://localhost:8080/",
          "height": 317
        },
        "outputId": "4e3e8255-32bb-4043-92f1-be892ae4a143",
        "id": "_qWLEy53dk0J"
      },
      "execution_count": null,
      "outputs": [
        {
          "output_type": "execute_result",
          "data": {
            "text/plain": [
              "[<matplotlib.lines.Line2D at 0x7f736536f5d0>]"
            ]
          },
          "metadata": {},
          "execution_count": 12
        },
        {
          "output_type": "display_data",
          "data": {
            "text/plain": [
              "<Figure size 432x288 with 1 Axes>"
            ],
            "image/png": "[encoded data removed]"
          },
          "metadata": {
            "needs_background": "light"
          }
        }
      ]
    },
    {
      "cell_type": "code",
      "source": [
        "plt.title(\"Tiempo en función del número de iteraciones máximas\")\n",
        "plt.xlabel(\"Max_iter\")\n",
        "plt.ylabel(\"Tiempo de ejecución (s)\")\n",
        "plt.xscale(\"log\")\n",
        "plt.plot(xs_iter,times_iters)"
      ],
      "metadata": {
        "colab": {
          "base_uri": "https://localhost:8080/",
          "height": 317
        },
        "outputId": "a23fd83d-6885-40be-fa97-746fa5b46d16",
        "id": "6ZCS1Sf3dk0K"
      },
      "execution_count": null,
      "outputs": [
        {
          "output_type": "execute_result",
          "data": {
            "text/plain": [
              "[<matplotlib.lines.Line2D at 0x7f73651d0490>]"
            ]
          },
          "metadata": {},
          "execution_count": 13
        },
        {
          "output_type": "display_data",
          "data": {
            "text/plain": [
              "<Figure size 432x288 with 1 Axes>"
            ],
            "image/png": "[encoded data removed]"
          },
          "metadata": {
            "needs_background": "light"
          }
        }
      ]
    },
    {
      "cell_type": "markdown",
      "source": [
        "## Tipo de error, regularización, alpha, tipo de learning rate"
      ],
      "metadata": {
        "id": "1TjE5pkddNST"
      }
    },
    {
      "cell_type": "code",
      "source": [
        "from sklearn.model_selection import GridSearchCV\n",
        "from sklearn.linear_model import SGDRegressor\n",
        "\n",
        "params = {'loss':['squared_error','huber'],\n",
        "          'penalty':['l1','l2'],\n",
        "          'alpha':[1e-3,1e-2,1e-1],\n",
        "          'learning_rate':['optimal','invscaling'],\n",
        "          }\n",
        "\n",
        "pla = GridSearchCV(SGDRegressor(max_iter=100),params,scoring='neg_mean_squared_error',n_jobs=-1)\n",
        "pla.fit(X,y)"
      ],
      "metadata": {
        "colab": {
          "base_uri": "https://localhost:8080/"
        },
        "id": "osidDFJ9dM7F",
        "outputId": "dca02781-1c00-4c2f-f3cb-0d1371deb80d"
      },
      "execution_count": null,
      "outputs": [
        {
          "output_type": "execute_result",
          "data": {
            "text/plain": [
              "GridSearchCV(estimator=SGDRegressor(max_iter=100), n_jobs=-1,\n",
              "             param_grid={'alpha': [0.001, 0.01, 0.1],\n",
              "                         'learning_rate': ['optimal', 'invscaling'],\n",
              "                         'loss': ['squared_error', 'huber'],\n",
              "                         'penalty': ['l1', 'l2']},\n",
              "             scoring='neg_mean_squared_error')"
            ]
          },
          "metadata": {},
          "execution_count": 15
        }
      ]
    },
    {
      "cell_type": "code",
      "source": [
        "print(pla.best_params_)"
      ],
      "metadata": {
        "colab": {
          "base_uri": "https://localhost:8080/"
        },
        "id": "tDI9OFWMjZ9Z",
        "outputId": "b5e383cb-330e-48a8-ddf4-b9d3c51c8a31"
      },
      "execution_count": null,
      "outputs": [
        {
          "output_type": "stream",
          "name": "stdout",
          "text": [
            "{'alpha': 0.01, 'learning_rate': 'optimal', 'loss': 'squared_error', 'penalty': 'l1'}\n"
          ]
        }
      ]
    },
    {
      "cell_type": "code",
      "source": [
        "modelo = SGDRegressor(penalty='l1',alpha=0.01, max_iter=100,learning_rate='optimal')\n",
        "modelo.fit(X,y)"
      ],
      "metadata": {
        "colab": {
          "base_uri": "https://localhost:8080/"
        },
        "id": "kobjsJCCpIVu",
        "outputId": "708c4415-3fff-4c6e-f62c-2ff03df313ae"
      },
      "execution_count": null,
      "outputs": [
        {
          "output_type": "execute_result",
          "data": {
            "text/plain": [
              "SGDRegressor(alpha=0.01, learning_rate='optimal', max_iter=100, penalty='l1')"
            ]
          },
          "metadata": {},
          "execution_count": 20
        }
      ]
    },
    {
      "cell_type": "markdown",
      "source": [
        "# Entrenamiento del modelo"
      ],
      "metadata": {
        "id": "FeH1VQpr1aI9"
      }
    },
    {
      "cell_type": "code",
      "source": [
        "import pandas\n",
        "X = pandas.read_csv(\"/content/drive/MyDrive/3º GII/2Cuatri/AA/Praticas/Practica3/Regresion/data/X_train_reduced_scaled.csv\").to_numpy()[:,1:]\n",
        "y = pandas.read_csv(\"/content/drive/MyDrive/3º GII/2Cuatri/AA/Praticas/Practica3/Regresion/data/y_train.csv\").to_numpy()[:,1:].transpose()[0]\n",
        "\n",
        "print(X.shape)\n",
        "print(y.shape)"
      ],
      "metadata": {
        "colab": {
          "base_uri": "https://localhost:8080/"
        },
        "outputId": "a10bdaa8-a5e2-46bf-a72d-5d39dd6324bd",
        "id": "DNINk2Pf1sm_"
      },
      "execution_count": null,
      "outputs": [
        {
          "output_type": "stream",
          "name": "stdout",
          "text": [
            "(412275, 77)\n",
            "(412275,)\n"
          ]
        }
      ]
    },
    {
      "cell_type": "code",
      "source": [
        "from sklearn.linear_model import SGDRegressor\n",
        "\n",
        "modelo = SGDRegressor(penalty='l1',alpha=0.01,max_iter=100,learning_rate='optimal')\n",
        "modelo.fit(X,y)"
      ],
      "metadata": {
        "colab": {
          "base_uri": "https://localhost:8080/"
        },
        "id": "QmZp5pYD1dNL",
        "outputId": "71c77142-379d-45ee-8627-c0ebfda8bdf2"
      },
      "execution_count": null,
      "outputs": [
        {
          "output_type": "execute_result",
          "data": {
            "text/plain": [
              "SGDRegressor(alpha=0.01, learning_rate='optimal', max_iter=100, penalty='l1')"
            ]
          },
          "metadata": {},
          "execution_count": 2
        }
      ]
    },
    {
      "cell_type": "code",
      "source": [
        "modelo.score(X,y)"
      ],
      "metadata": {
        "id": "0OKdfegPKdW8",
        "outputId": "af73730b-ebb3-441f-e718-e52782f009c0",
        "colab": {
          "base_uri": "https://localhost:8080/"
        }
      },
      "execution_count": null,
      "outputs": [
        {
          "output_type": "execute_result",
          "data": {
            "text/plain": [
              "0.2204773380409153"
            ]
          },
          "metadata": {},
          "execution_count": 3
        }
      ]
    },
    {
      "cell_type": "code",
      "source": [
        "from sklearn.metrics import mean_squared_error\n",
        "\n",
        "print(\"E_in: \",mean_squared_error(y, modelo.predict(X)))"
      ],
      "metadata": {
        "colab": {
          "base_uri": "https://localhost:8080/"
        },
        "id": "1qwEhr-CsFZC",
        "outputId": "2a624568-114d-4faa-d638-43a5a85198c2"
      },
      "execution_count": null,
      "outputs": [
        {
          "output_type": "stream",
          "name": "stdout",
          "text": [
            "E_in:  93.53388031502975\n"
          ]
        }
      ]
    },
    {
      "cell_type": "markdown",
      "source": [
        "## SGDRegressor vs Estimador naive (media)"
      ],
      "metadata": {
        "id": "pXfOXvITaVt7"
      }
    },
    {
      "cell_type": "code",
      "source": [
        "from sklearn.dummy import DummyRegressor\n",
        "from sklearn.model_selection import cross_val_score\n",
        "from sklearn.linear_model import SGDRegressor\n",
        "\n",
        "Evs = {'SGD':cross_val_score(SGDRegressor(penalty='l1',alpha=0.01,max_iter=100,learning_rate='optimal'),X,y,scoring='neg_mean_squared_error',n_jobs=-1),\n",
        "       'avg':cross_val_score(DummyRegressor(strategy='mean'),X,y,scoring='neg_mean_squared_error',n_jobs=-1)}"
      ],
      "metadata": {
        "id": "X1pIzZtWaVuM"
      },
      "execution_count": null,
      "outputs": []
    },
    {
      "cell_type": "code",
      "source": [
        "print(\"Relación desempeño SGD vs Media: \", -Evs['SGD'].mean(),\", \", -Evs['avg'].mean())"
      ],
      "metadata": {
        "colab": {
          "base_uri": "https://localhost:8080/"
        },
        "outputId": "1922d94c-2099-4d24-8901-46659c30aa2b",
        "id": "kYyUBDbLaVuP"
      },
      "execution_count": null,
      "outputs": [
        {
          "output_type": "stream",
          "name": "stdout",
          "text": [
            "Relación desempeño SGD vs Media:  93.57876489632613 ,  120.00560257326154\n"
          ]
        }
      ]
    },
    {
      "cell_type": "markdown",
      "source": [
        "## Otra métrica de error"
      ],
      "metadata": {
        "id": "o2QGTxOztv6w"
      }
    },
    {
      "cell_type": "code",
      "source": [
        "import math\n",
        "def sq_error_divided(y_true,y_predict):\n",
        "  errs = {1920:0.0,1940:0.0,1960:0.0,1980:0.0,2000:0.0}\n",
        "  counts = {1920:0,1940:0,1960:0,1980:0,2000:0}\n",
        "  for i in range(y_true.size):\n",
        "    errs[y_true[i]//20*20] += (y_true[i]-y_predict[i])**2\n",
        "    counts[y_true[i]//20*20] += 1\n",
        "  for key in list(errs.keys()):\n",
        "    errs[key] /= counts[key]\n",
        "  return errs"
      ],
      "metadata": {
        "id": "egj01dQctyNy"
      },
      "execution_count": null,
      "outputs": []
    },
    {
      "cell_type": "code",
      "source": [
        "print(sq_error_divided(y,modelo.predict(X)))"
      ],
      "metadata": {
        "colab": {
          "base_uri": "https://localhost:8080/"
        },
        "id": "idSYvuc0udKm",
        "outputId": "e19e9d09-e067-4fcd-84a3-dce4ac01d241"
      },
      "execution_count": null,
      "outputs": [
        {
          "output_type": "stream",
          "name": "stdout",
          "text": [
            "{1920: 3236.867911029152, 1940: 1392.9339831051866, 1960: 523.595689456425, 1980: 45.74294887624345, 2000: 48.42445427530583}\n"
          ]
        }
      ]
    },
    {
      "cell_type": "markdown",
      "source": [
        "# Acotación Eout"
      ],
      "metadata": {
        "id": "HPYWQX47C-Mx"
      }
    },
    {
      "cell_type": "code",
      "source": [
        "import pandas\n",
        "X_test = pandas.read_csv(\"/content/drive/MyDrive/3º GII/2Cuatri/AA/Praticas/Practica3/Regresion/data/X_test.csv\").to_numpy()[:,1:]\n",
        "y_test = pandas.read_csv(\"/content/drive/MyDrive/3º GII/2Cuatri/AA/Praticas/Practica3/Regresion/data/y_test.csv\").to_numpy()[:,1:].transpose()[0]\n",
        "\n",
        "print(X_test.shape)\n",
        "print(y_test.shape)"
      ],
      "metadata": {
        "colab": {
          "base_uri": "https://localhost:8080/"
        },
        "id": "xAGXZi-1DCGF",
        "outputId": "1c042b08-6afb-4691-f2d9-181a9f1385f2"
      },
      "execution_count": null,
      "outputs": [
        {
          "output_type": "stream",
          "name": "stdout",
          "text": [
            "(103069, 90)\n",
            "(103069,)\n"
          ]
        }
      ]
    },
    {
      "cell_type": "markdown",
      "source": [
        "## Escalado (normalización)"
      ],
      "metadata": {
        "id": "NgpzCiRUD3wh"
      }
    },
    {
      "cell_type": "code",
      "source": [
        "import pandas\n",
        "X = pandas.read_csv(\"/content/drive/MyDrive/3º GII/2Cuatri/AA/Praticas/Practica3/Regresion/data/X_train.csv\").to_numpy()[:,1:]"
      ],
      "metadata": {
        "id": "Y6XGArcVEG-Z"
      },
      "execution_count": null,
      "outputs": []
    },
    {
      "cell_type": "code",
      "source": [
        "from sklearn.preprocessing import StandardScaler\n",
        "scalerstd = StandardScaler()\n",
        "scalerstd.fit(X)\n",
        "X = scalerstd.transform(X)\n",
        "X_test_scaled = scalerstd.transform(X_test)\n",
        "print(X_test_scaled.shape)"
      ],
      "metadata": {
        "colab": {
          "base_uri": "https://localhost:8080/"
        },
        "id": "Zcdad5OHDOC3",
        "outputId": "5f5a1303-b41e-4069-9791-f25bb41959bf"
      },
      "execution_count": null,
      "outputs": [
        {
          "output_type": "stream",
          "name": "stdout",
          "text": [
            "(103069, 90)\n"
          ]
        }
      ]
    },
    {
      "cell_type": "markdown",
      "source": [
        "## PCA"
      ],
      "metadata": {
        "id": "D2rh-JLoD5nP"
      }
    },
    {
      "cell_type": "code",
      "source": [
        "from sklearn.decomposition import PCA\n",
        "\n",
        "pca = PCA(n_components=0.98)\n",
        "pca.fit(X)\n",
        "X_test_scaled_transformed = pca.transform(X_test_scaled)\n",
        "print(X_test_scaled_transformed.shape)"
      ],
      "metadata": {
        "colab": {
          "base_uri": "https://localhost:8080/"
        },
        "id": "SMfQ0CXbD201",
        "outputId": "82fe8baa-1d6e-4812-b472-72a67a102bb2"
      },
      "execution_count": null,
      "outputs": [
        {
          "output_type": "stream",
          "name": "stdout",
          "text": [
            "(103069, 77)\n"
          ]
        }
      ]
    },
    {
      "cell_type": "code",
      "source": [
        "pandas.DataFrame(X_test_scaled_transformed).to_csv(\"/content/drive/MyDrive/3º GII/2Cuatri/AA/Praticas/Practica3/Regresion/data/X_test_scaled_transformed.csv\")"
      ],
      "metadata": {
        "id": "8CWgU0riEvaT"
      },
      "execution_count": null,
      "outputs": []
    },
    {
      "cell_type": "markdown",
      "source": [
        "## Cota"
      ],
      "metadata": {
        "id": "ceipe7wzE5QG"
      }
    },
    {
      "cell_type": "code",
      "source": [
        "import pandas\n",
        "\n",
        "X_test = pandas.read_csv(\"/content/drive/MyDrive/3º GII/2Cuatri/AA/Praticas/Practica3/Regresion/data/X_test_scaled_transformed.csv\").to_numpy()[:,1:]\n",
        "y_test = pandas.read_csv(\"/content/drive/MyDrive/3º GII/2Cuatri/AA/Praticas/Practica3/Regresion/data/y_test.csv\").to_numpy()[:,1:].transpose()[0]\n",
        "\n",
        "print(X_test.shape)\n",
        "print(y_test.shape)"
      ],
      "metadata": {
        "colab": {
          "base_uri": "https://localhost:8080/"
        },
        "id": "8OUMR_coE2cR",
        "outputId": "7acc0dae-a701-42ab-9d09-bbbbcf68470b"
      },
      "execution_count": null,
      "outputs": [
        {
          "output_type": "stream",
          "name": "stdout",
          "text": [
            "(103069, 77)\n",
            "(103069,)\n"
          ]
        }
      ]
    },
    {
      "cell_type": "code",
      "source": [
        "from sklearn.metrics import mean_squared_error\n",
        "import numpy as np\n",
        "\n",
        "print(\"Cota Eout: \", mean_squared_error(y_test, modelo.predict(X_test))+np.sqrt(1/(2*y_test.size)*np.log(2/0.05)))"
      ],
      "metadata": {
        "colab": {
          "base_uri": "https://localhost:8080/"
        },
        "id": "mIHG5XEKFjay",
        "outputId": "2fd9cd16-9666-43b1-fd0a-d99c86b42347"
      },
      "execution_count": null,
      "outputs": [
        {
          "output_type": "stream",
          "name": "stdout",
          "text": [
            "Cota Eout:  91.2247133504684\n"
          ]
        }
      ]
    },
    {
      "cell_type": "markdown",
      "source": [
        "# Curvas de aprendizaje"
      ],
      "metadata": {
        "id": "JZV3T5DfF-Fi"
      }
    },
    {
      "cell_type": "markdown",
      "source": [
        "## Con regularización"
      ],
      "metadata": {
        "id": "s8yO6i79IJU2"
      }
    },
    {
      "cell_type": "code",
      "source": [
        "from sklearn.linear_model import SGDRegressor\n",
        "from sklearn.model_selection import train_test_split\n",
        "from sklearn.model_selection import learning_curve\n",
        "import numpy as np\n",
        "\n",
        "modelo = SGDRegressor(penalty='l1',alpha=0.01,max_iter=100,learning_rate='optimal')\n",
        "\n",
        "xs, Eins, Eouts = learning_curve(modelo, X,y,train_sizes=np.linspace(0.01,0.1,20),scoring='neg_mean_squared_error')"
      ],
      "metadata": {
        "id": "NCrqgkfhGAFQ"
      },
      "execution_count": null,
      "outputs": []
    },
    {
      "cell_type": "code",
      "source": [
        "import matplotlib.pyplot as plt\n",
        "\n",
        "plt.title(\"Curva de aprendizaje\")\n",
        "plt.xlabel(\"Tamaño de la muestra\")\n",
        "plt.ylabel(\"MSE\")\n",
        "plt.plot(xs, -Eins.mean(axis=1), c='b',label='Ein')\n",
        "plt.plot(xs, -Eouts.mean(axis=1), c='r',label='Eout')\n",
        "plt.legend()"
      ],
      "metadata": {
        "colab": {
          "base_uri": "https://localhost:8080/",
          "height": 312
        },
        "id": "pwlCAp2FHSwO",
        "outputId": "ddfc23e9-a996-4a57-b7e9-6cd09196e5cb"
      },
      "execution_count": null,
      "outputs": [
        {
          "output_type": "execute_result",
          "data": {
            "text/plain": [
              "<matplotlib.legend.Legend at 0x7f35b582ef50>"
            ]
          },
          "metadata": {},
          "execution_count": 16
        },
        {
          "output_type": "display_data",
          "data": {
            "text/plain": [
              "<Figure size 432x288 with 1 Axes>"
            ],
            "image/png": "[encoded data removed]"
          },
          "metadata": {
            "needs_background": "light"
          }
        }
      ]
    },
    {
      "cell_type": "code",
      "source": [
        "Eins = []\n",
        "Evals = []\n",
        "Ns = []\n",
        "\n",
        "from sklearn.model_selection import train_test_split\n",
        "from sklearn.linear_model import SGDRegressor\n",
        "from sklearn.metrics import mean_squared_error\n",
        "\n",
        "modelo = SGDRegressor(penalty='l1',alpha=0.01,max_iter=100,learning_rate='optimal')\n",
        "\n",
        "from sklearn.model_selection import train_test_split\n",
        "X_train, X_val, y_train, y_val = train_test_split(X,y,test_size=0.2,random_state=0)\n",
        "\n",
        "for i in np.linspace(0.01,0.1,20):\n",
        "  N = int(i*y_train.size)\n",
        "  modelo.fit(X_train[:N,:],y_train[:N])\n",
        "  Eins.append(mean_squared_error(y_train,modelo.predict(X_train)))\n",
        "  Evals.append(mean_squared_error(y_val,modelo.predict(X_val)))\n",
        "  Ns.append(N)"
      ],
      "metadata": {
        "id": "88-4062YOvXC"
      },
      "execution_count": null,
      "outputs": []
    },
    {
      "cell_type": "code",
      "source": [
        "import matplotlib.pyplot as plt\n",
        "\n",
        "plt.plot(Ns, Eins, c='b',label='E_in')\n",
        "plt.plot(Ns, Evals, c='r',label='E_val')\n",
        "plt.legend()\n",
        "plt.show()"
      ],
      "metadata": {
        "colab": {
          "base_uri": "https://localhost:8080/",
          "height": 265
        },
        "id": "LC273FFfWg56",
        "outputId": "09188622-bfcf-41ef-e5cd-dbf20aa39918"
      },
      "execution_count": null,
      "outputs": [
        {
          "output_type": "display_data",
          "data": {
            "text/plain": [
              "<Figure size 432x288 with 1 Axes>"
            ],
            "image/png": "[encoded data removed]"
          },
          "metadata": {
            "needs_background": "light"
          }
        }
      ]
    }
  ],
  "metadata": {
    "colab": {
      "collapsed_sections": [],
      "name": "Practica3Regresion.ipynb",
      "provenance": [],
      "toc_visible": true
    },
    "kernelspec": {
      "display_name": "Python 3",
      "name": "python3"
    },
    "language_info": {
      "name": "python"
    }
  },
  "nbformat": 4,
  "nbformat_minor": 0
}