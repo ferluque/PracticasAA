{
  "nbformat": 4,
  "nbformat_minor": 0,
  "metadata": {
    "colab": {
      "name": "Practica3Clasificación.ipynb",
      "provenance": [],
      "collapsed_sections": [],
      "toc_visible": true
    },
    "kernelspec": {
      "name": "python3",
      "display_name": "Python 3"
    },
    "language_info": {
      "name": "python"
    }
  },
  "cells": [
    {
      "cell_type": "markdown",
      "source": [
        "# 1. Visualización de datos"
      ],
      "metadata": {
        "id": "nOULO0Nm4TBK"
      }
    },
    {
      "cell_type": "code",
      "source": [
        "import sklearn\n",
        "import pandas\n",
        "import numpy as np\n",
        "\n",
        "file = \"/content/drive/MyDrive/3º GII/2Cuatri/AA/Praticas/Practica3/Clasificacion/bank-full.csv\"\n",
        "\n",
        "X = pandas.read_csv(file, sep=\";\")\n",
        "\n",
        "X = X.to_numpy()\n",
        "\n",
        "y = X[:,16]\n",
        "\n",
        "X = X[:,0:16]\n",
        "\n",
        "from sklearn.model_selection import train_test_split\n",
        "\n",
        "np.random.seed(0)\n",
        "# Conjuntos de train y test\n",
        "x_train, x_test, y_train, y_test = train_test_split(X,y,test_size=0.2)  \n",
        "\n",
        "print(\"Conjunto de training: \",x_train.shape, \" // \", y_train.shape)\n",
        "print(\"Conjunto de test: \",x_test.shape, \" // \", y_test.shape)"
      ],
      "metadata": {
        "colab": {
          "base_uri": "https://localhost:8080/"
        },
        "id": "eCqbMKEK4i9w",
        "outputId": "f5974093-1daa-4251-d9a2-df642ee6d72f"
      },
      "execution_count": null,
      "outputs": [
        {
          "output_type": "stream",
          "name": "stdout",
          "text": [
            "Conjunto de training:  (36168, 16)  //  (36168,)\n",
            "Conjunto de test:  (9043, 16)  //  (9043,)\n"
          ]
        }
      ]
    },
    {
      "cell_type": "code",
      "source": [
        "pandas.DataFrame(x_test).to_csv(\"/content/drive/MyDrive/3º GII/2Cuatri/AA/Praticas/Practica3/Clasificacion/data/X_test_orig.csv\")\n",
        "pandas.DataFrame(y_test).to_csv(\"/content/drive/MyDrive/3º GII/2Cuatri/AA/Praticas/Practica3/Clasificacion/data/y_test.csv\")"
      ],
      "metadata": {
        "id": "gEzZMoGD7qr8"
      },
      "execution_count": null,
      "outputs": []
    },
    {
      "cell_type": "markdown",
      "source": [
        "## Porcentaje de cada clase"
      ],
      "metadata": {
        "id": "Nw9iJ1pQ4ZcI"
      }
    },
    {
      "cell_type": "code",
      "source": [
        "features = {\n",
        "    \"age\": 0,\"job\":1,\"marital\":2,\"education\":3,\"default\":4,\"balance\":5,\"housing\":6,\"loan\":7,\"contact\":8,\"day\":9,\n",
        "    \"month\":10,\"duration\":11,\"campaign\":12,\"pdays\":13,\"previous\":14,\"poutcome\":15\n",
        "}"
      ],
      "metadata": {
        "id": "jtJVMC4IFZDW"
      },
      "execution_count": null,
      "outputs": []
    },
    {
      "cell_type": "code",
      "source": [
        "import matplotlib.pyplot as plt\n",
        "\n",
        "unique, count = np.unique(y_train, return_counts=True)\n",
        "cuentas = dict(zip(unique,count))\n",
        "\n",
        "print(\"Porcentaje yes: \", cuentas[\"yes\"]/y_train.size*100,\"%\")\n",
        "print(\"Porcentaje no: \",cuentas[\"no\"]/y_train.size*100,\"%\")\n",
        "\n",
        "plt.title(\"Cantidad de elementos de cada clase\")\n",
        "plt.ylabel(\"Número de elementos\")\n",
        "plt.xlabel(\"Etiquetas\")\n",
        "plt.hist(y_train)"
      ],
      "metadata": {
        "colab": {
          "base_uri": "https://localhost:8080/",
          "height": 399
        },
        "id": "k88EOUAU4cxE",
        "outputId": "90d2b5c9-ff34-41a1-d5be-8d8d4965a237"
      },
      "execution_count": null,
      "outputs": [
        {
          "output_type": "stream",
          "name": "stdout",
          "text": [
            "Porcentaje yes:  11.68436186684362 %\n",
            "Porcentaje no:  88.31563813315638 %\n"
          ]
        },
        {
          "output_type": "execute_result",
          "data": {
            "text/plain": [
              "(array([ 4226.,     0.,     0.,     0.,     0.,     0.,     0.,     0.,\n",
              "            0., 31942.]),\n",
              " array([0. , 0.1, 0.2, 0.3, 0.4, 0.5, 0.6, 0.7, 0.8, 0.9, 1. ]),\n",
              " <a list of 10 Patch objects>)"
            ]
          },
          "metadata": {},
          "execution_count": 38
        },
        {
          "output_type": "display_data",
          "data": {
            "text/plain": [
              "<Figure size 432x288 with 1 Axes>"
            ],
            "image/png": "[encoded data removed]"
          },
          "metadata": {
            "needs_background": "light"
          }
        }
      ]
    },
    {
      "cell_type": "markdown",
      "source": [
        "## Resumen variables continuas"
      ],
      "metadata": {
        "id": "TBlxEh-x4dBo"
      }
    },
    {
      "cell_type": "code",
      "source": [
        "print(\"==========EDAD==========\")\n",
        "print(\"Media: \", np.average(x_train[:,features[\"age\"]]))\n",
        "print(\"Desviación típica: \", np.std(x_train[:,features[\"age\"]]))\n",
        "\n",
        "print(\"==========DURACIÓN LLAMADA==========\")\n",
        "print(\"Media: \", np.average(x_train[:,features[\"duration\"]]))\n",
        "print(\"Desviación típica: \", np.std(x_train[:,features[\"duration\"]]))"
      ],
      "metadata": {
        "id": "nd8u1QLP4dYg",
        "colab": {
          "base_uri": "https://localhost:8080/"
        },
        "outputId": "9d5fe7c5-ee79-4cde-e123-549ebed4dd48"
      },
      "execution_count": null,
      "outputs": [
        {
          "output_type": "stream",
          "name": "stdout",
          "text": [
            "==========EDAD==========\n",
            "Media:  40.89598540145985\n",
            "Desviación típica:  10.61207538724399\n",
            "==========DURACIÓN LLAMADA==========\n",
            "Media:  257.63232691882325\n",
            "Desviación típica:  257.69726504253146\n"
          ]
        }
      ]
    },
    {
      "cell_type": "markdown",
      "source": [
        "## Resumen variables categóricas"
      ],
      "metadata": {
        "id": "yc_VvUEh4dlG"
      }
    },
    {
      "cell_type": "code",
      "source": [
        "def count(columna, clasificacion,categoria):\n",
        "  respuestas = np.zeros(2)\n",
        "  for i in range(columna.size):\n",
        "    if columna[i]==categoria:\n",
        "      if clasificacion[i]=='yes':\n",
        "        respuestas[0] += 1\n",
        "      else:\n",
        "        respuestas[1] +=1 \n",
        "  return respuestas"
      ],
      "metadata": {
        "id": "fz-epUp_TeZ0"
      },
      "execution_count": null,
      "outputs": []
    },
    {
      "cell_type": "markdown",
      "source": [
        "### Puesto de trabajo"
      ],
      "metadata": {
        "id": "mTfirbUUXKeT"
      }
    },
    {
      "cell_type": "code",
      "source": [
        "trabajos = dict.fromkeys(np.unique(x_train[:,features['job']]))\n",
        "\n",
        "for i in range(len(trabajos)):\n",
        "  key = list(trabajos.keys())[i]\n",
        "  trabajos[key] = count(x_train[:,features['job']],y_train,key)\n",
        "\n",
        "trabajos_si = dict.fromkeys(np.unique(x_train[:,features['job']]))\n",
        "trabajos_no = dict.fromkeys(np.unique(x_train[:,features['job']]))\n",
        "for i in range(len(trabajos)):\n",
        "  key = list(trabajos.keys())[i]\n",
        "  trabajos_si[key] = trabajos[key][0]\n",
        "  trabajos_no[key] = trabajos[key][1]"
      ],
      "metadata": {
        "id": "yeTf4i2OT57o"
      },
      "execution_count": null,
      "outputs": []
    },
    {
      "cell_type": "code",
      "source": [
        "import matplotlib.pyplot as plt\n",
        "\n",
        "X_axis = np.arange(len(np.unique(x_train[:,features['job']])))\n",
        "\n",
        "plt.figure(figsize=(20,5))\n",
        "\n",
        "plt.bar(X_axis-0.2, trabajos_si.values(),0.4,label='SI')\n",
        "plt.bar(X_axis+0.2, trabajos_no.values(),0.4,label='NO')\n",
        "\n",
        "plt.xticks(ticks=X_axis,labels=np.unique(x_train[:,features['job']]))\n",
        "plt.xlabel(\"Trabajos\")\n",
        "plt.ylabel(\"Cantidad de individuos\")\n",
        "plt.title(\"Distribución de respuestas en función del trabajo\")\n",
        "plt.legend()\n",
        "plt.show()"
      ],
      "metadata": {
        "colab": {
          "base_uri": "https://localhost:8080/",
          "height": 350
        },
        "id": "bRVpapteSrPt",
        "outputId": "48a80288-5f97-4600-c714-f512b540112b"
      },
      "execution_count": null,
      "outputs": [
        {
          "output_type": "display_data",
          "data": {
            "text/plain": [
              "<Figure size 1440x360 with 1 Axes>"
            ],
            "image/png": "[encoded data removed]"
          },
          "metadata": {
            "needs_background": "light"
          }
        }
      ]
    },
    {
      "cell_type": "markdown",
      "source": [
        "### Estado civil"
      ],
      "metadata": {
        "id": "HWajB71dXNBj"
      }
    },
    {
      "cell_type": "code",
      "source": [
        "marital = dict.fromkeys(np.unique(x_train[:,features['marital']]))\n",
        "\n",
        "for i in range(len(marital)):\n",
        "  key = list(marital.keys())[i]\n",
        "  marital[key] = count(x_train[:,features['marital']],y_train,key)\n",
        "\n",
        "print(marital)\n",
        "\n",
        "marital_si = dict.fromkeys(np.unique(x_train[:,features['marital']]))\n",
        "marital_no = dict.fromkeys(np.unique(x_train[:,features['marital']]))\n",
        "for i in range(len(marital)):\n",
        "  key = list(marital.keys())[i]\n",
        "  marital_si[key] = marital[key][0]\n",
        "  marital_no[key] = marital[key][1]\n",
        "\n",
        "print(marital_si)\n",
        "print(marital_no)"
      ],
      "metadata": {
        "colab": {
          "base_uri": "https://localhost:8080/"
        },
        "id": "uGe_v_eCQuD5",
        "outputId": "d03188c8-8815-4e88-d347-06ad684c66fc"
      },
      "execution_count": null,
      "outputs": [
        {
          "output_type": "stream",
          "name": "stdout",
          "text": [
            "{'divorced': array([ 510., 3660.]), 'married': array([ 2175., 19551.]), 'single': array([1541., 8731.])}\n",
            "{'divorced': 510.0, 'married': 2175.0, 'single': 1541.0}\n",
            "{'divorced': 3660.0, 'married': 19551.0, 'single': 8731.0}\n"
          ]
        }
      ]
    },
    {
      "cell_type": "code",
      "source": [
        "import matplotlib.pyplot as plt\n",
        "\n",
        "X_axis = np.arange(len(np.unique(x_train[:,features['marital']])))\n",
        "\n",
        "plt.figure(figsize=(20,5))\n",
        "\n",
        "plt.bar(X_axis-0.2, marital_si.values(),0.4,label='SI')\n",
        "plt.bar(X_axis+0.2, marital_no.values(),0.4,label='NO')\n",
        "\n",
        "plt.xticks(ticks=X_axis,labels=np.unique(x_train[:,features['marital']]))\n",
        "plt.xlabel(\"Estado civil\")\n",
        "plt.ylabel(\"Cantidad de individuos\")\n",
        "plt.title(\"Distribución de respuestas en función del estado civil\")\n",
        "plt.legend()\n",
        "plt.show()"
      ],
      "metadata": {
        "colab": {
          "base_uri": "https://localhost:8080/",
          "height": 350
        },
        "id": "l-XtB-6JXsQW",
        "outputId": "ef2fd57c-eb54-4086-c62b-b078a38e7792"
      },
      "execution_count": null,
      "outputs": [
        {
          "output_type": "display_data",
          "data": {
            "text/plain": [
              "<Figure size 1440x360 with 1 Axes>"
            ],
            "image/png": "[encoded data removed]"
          },
          "metadata": {
            "needs_background": "light"
          }
        }
      ]
    },
    {
      "cell_type": "markdown",
      "source": [
        "### Estudios"
      ],
      "metadata": {
        "id": "1u3cQfotXSR1"
      }
    },
    {
      "cell_type": "code",
      "source": [
        "education = dict.fromkeys(np.unique(x_train[:,features['education']]))\n",
        "\n",
        "for i in range(len(education)):\n",
        "  key = list(education.keys())[i]\n",
        "  education[key] = count(x_train[:,features['education']],y_train,key)\n",
        "\n",
        "print(education)\n",
        "\n",
        "education_si = dict.fromkeys(np.unique(x_train[:,features['education']]))\n",
        "education_no = dict.fromkeys(np.unique(x_train[:,features['education']]))\n",
        "for i in range(len(education)):\n",
        "  key = list(education.keys())[i]\n",
        "  education_si[key] = education[key][0]\n",
        "  education_no[key] = education[key][1]\n",
        "\n",
        "print(education_si)\n",
        "print(education_no)"
      ],
      "metadata": {
        "colab": {
          "base_uri": "https://localhost:8080/"
        },
        "id": "YzlBi3CMHdfd",
        "outputId": "3ed9150a-5f8c-4f27-8799-c9c32924bdeb"
      },
      "execution_count": null,
      "outputs": [
        {
          "output_type": "stream",
          "name": "stdout",
          "text": [
            "{'primary': array([ 473., 4987.]), 'secondary': array([ 1969., 16613.]), 'tertiary': array([1588., 9084.]), 'unknown': array([ 196., 1258.])}\n",
            "{'primary': 473.0, 'secondary': 1969.0, 'tertiary': 1588.0, 'unknown': 196.0}\n",
            "{'primary': 4987.0, 'secondary': 16613.0, 'tertiary': 9084.0, 'unknown': 1258.0}\n"
          ]
        }
      ]
    },
    {
      "cell_type": "code",
      "source": [
        "import matplotlib.pyplot as plt\n",
        "\n",
        "X_axis = np.arange(len(np.unique(x_train[:,features['education']])))\n",
        "\n",
        "plt.figure(figsize=(20,5))\n",
        "\n",
        "plt.bar(X_axis-0.2, education_si.values(),0.4,label='SI')\n",
        "plt.bar(X_axis+0.2, education_no.values(),0.4,label='NO')\n",
        "\n",
        "plt.xticks(ticks=X_axis,labels=np.unique(x_train[:,features['education']]))\n",
        "plt.xlabel(\"Nivel de educación\")\n",
        "plt.ylabel(\"Cantidad de individuos\")\n",
        "plt.title(\"Distribución de respuestas en función de la educación\")\n",
        "plt.legend()\n",
        "plt.show()"
      ],
      "metadata": {
        "colab": {
          "base_uri": "https://localhost:8080/",
          "height": 350
        },
        "id": "pqRCKAqBYiGR",
        "outputId": "1ac8a124-7826-4397-a907-6386dde074e8"
      },
      "execution_count": null,
      "outputs": [
        {
          "output_type": "display_data",
          "data": {
            "text/plain": [
              "<Figure size 1440x360 with 1 Axes>"
            ],
            "image/png": "[encoded data removed]"
          },
          "metadata": {
            "needs_background": "light"
          }
        }
      ]
    },
    {
      "cell_type": "markdown",
      "source": [
        "### Hipoteca"
      ],
      "metadata": {
        "id": "IgXZ1uz9XTr7"
      }
    },
    {
      "cell_type": "code",
      "source": [
        "housing = dict.fromkeys(np.unique(x_train[:,features['housing']]))\n",
        "\n",
        "for i in range(len(housing)):\n",
        "  key = list(housing.keys())[i]\n",
        "  housing[key] = count(x_train[:,features['housing']],y_train,key)\n",
        "\n",
        "print(housing)\n",
        "\n",
        "housing_si = dict.fromkeys(np.unique(x_train[:,features['housing']]))\n",
        "housing_no = dict.fromkeys(np.unique(x_train[:,features['housing']]))\n",
        "for i in range(len(housing)):\n",
        "  key = list(housing.keys())[i]\n",
        "  housing_si[key] = housing[key][0]\n",
        "  housing_no[key] = housing[key][1]\n",
        "\n",
        "print(housing_si)\n",
        "print(housing_no)"
      ],
      "metadata": {
        "colab": {
          "base_uri": "https://localhost:8080/"
        },
        "id": "UE7Hwxmvce2h",
        "outputId": "6ca4a144-130f-4075-a146-1643aca327aa"
      },
      "execution_count": null,
      "outputs": [
        {
          "output_type": "stream",
          "name": "stdout",
          "text": [
            "{'no': array([ 2703., 13429.]), 'yes': array([ 1523., 18513.])}\n",
            "{'no': 2703.0, 'yes': 1523.0}\n",
            "{'no': 13429.0, 'yes': 18513.0}\n"
          ]
        }
      ]
    },
    {
      "cell_type": "code",
      "source": [
        "import matplotlib.pyplot as plt\n",
        "\n",
        "X_axis = np.arange(len(np.unique(x_train[:,features['housing']])))\n",
        "\n",
        "plt.figure(figsize=(20,5))\n",
        "\n",
        "plt.bar(X_axis-0.2, housing_si.values(),0.4,label='SI')\n",
        "plt.bar(X_axis+0.2, housing_no.values(),0.4,label='NO')\n",
        "\n",
        "plt.xticks(ticks=X_axis,labels=np.unique(x_train[:,features['housing']]))\n",
        "plt.xlabel(\"Tiene hipoteca\")\n",
        "plt.ylabel(\"Cantidad de individuos\")\n",
        "plt.title(\"Distribución de respuestas en función de si tiene hipoteca o no\")\n",
        "plt.legend()\n",
        "plt.show()"
      ],
      "metadata": {
        "colab": {
          "base_uri": "https://localhost:8080/",
          "height": 350
        },
        "id": "c_w8MiFZY5MH",
        "outputId": "c748c91d-06d5-4e86-db4f-f72d15037820"
      },
      "execution_count": null,
      "outputs": [
        {
          "output_type": "display_data",
          "data": {
            "text/plain": [
              "<Figure size 1440x360 with 1 Axes>"
            ],
            "image/png": "[encoded data removed]"
          },
          "metadata": {
            "needs_background": "light"
          }
        }
      ]
    },
    {
      "cell_type": "markdown",
      "source": [
        "### Préstamo personal"
      ],
      "metadata": {
        "id": "luM4Yfh2XXsu"
      }
    },
    {
      "cell_type": "code",
      "source": [
        "loan = dict.fromkeys(np.unique(x_train[:,features['loan']]))\n",
        "\n",
        "for i in range(len(loan)):\n",
        "  key = list(loan.keys())[i]\n",
        "  loan[key] = count(x_train[:,features['loan']],y_train,key)\n",
        "\n",
        "print(loan)\n",
        "\n",
        "loan_si = dict.fromkeys(np.unique(x_train[:,features['loan']]))\n",
        "loan_no = dict.fromkeys(np.unique(x_train[:,features['loan']]))\n",
        "for i in range(len(loan)):\n",
        "  key = list(loan.keys())[i]\n",
        "  loan_si[key] = loan[key][0]\n",
        "  loan_no[key] = loan[key][1]\n",
        "\n",
        "print(loan_si)\n",
        "print(loan_no)"
      ],
      "metadata": {
        "colab": {
          "base_uri": "https://localhost:8080/"
        },
        "id": "wAFFXmK0cmDN",
        "outputId": "bed45819-9385-4fc1-df92-abd2a9c9ea3d"
      },
      "execution_count": null,
      "outputs": [
        {
          "output_type": "stream",
          "name": "stdout",
          "text": [
            "{'no': array([ 3843., 26552.]), 'yes': array([ 383., 5390.])}\n",
            "{'no': 3843.0, 'yes': 383.0}\n",
            "{'no': 26552.0, 'yes': 5390.0}\n"
          ]
        }
      ]
    },
    {
      "cell_type": "code",
      "source": [
        "import matplotlib.pyplot as plt\n",
        "\n",
        "X_axis = np.arange(len(np.unique(x_train[:,features['loan']])))\n",
        "\n",
        "plt.figure(figsize=(20,5))\n",
        "\n",
        "plt.bar(X_axis-0.2, loan_si.values(),0.4,label='SI')\n",
        "plt.bar(X_axis+0.2, loan_no.values(),0.4,label='NO')\n",
        "\n",
        "plt.xticks(ticks=X_axis,labels=np.unique(x_train[:,features['loan']]))\n",
        "plt.xlabel(\"Tiene préstamo personal\")\n",
        "plt.ylabel(\"Cantidad de individuos\")\n",
        "plt.title(\"Distribución de respuestas en función de si tiene un préstamo personal o no\")\n",
        "plt.legend()\n",
        "plt.show()"
      ],
      "metadata": {
        "colab": {
          "base_uri": "https://localhost:8080/",
          "height": 350
        },
        "id": "6nSLTfRkZTyL",
        "outputId": "53ecc16c-59e3-486f-c337-2b4e090dca37"
      },
      "execution_count": null,
      "outputs": [
        {
          "output_type": "display_data",
          "data": {
            "text/plain": [
              "<Figure size 1440x360 with 1 Axes>"
            ],
            "image/png": "[encoded data removed]"
          },
          "metadata": {
            "needs_background": "light"
          }
        }
      ]
    },
    {
      "cell_type": "markdown",
      "source": [
        "# 3. Conjuntos de training, validación y test"
      ],
      "metadata": {
        "id": "2ys4UAv2H58a"
      }
    },
    {
      "cell_type": "code",
      "source": [
        "## Ya está hecho antes"
      ],
      "metadata": {
        "id": "VFgXSQ9hZEjE"
      },
      "execution_count": null,
      "outputs": []
    },
    {
      "cell_type": "markdown",
      "source": [
        "# 4. Preprocesado de variables\n"
      ],
      "metadata": {
        "id": "XEewh2YSORCi"
      }
    },
    {
      "cell_type": "markdown",
      "source": [
        "## Variables categóricas\n",
        "\n",
        "job, marital, education, contact y poutcome."
      ],
      "metadata": {
        "id": "_izvaH0tFAdC"
      }
    },
    {
      "cell_type": "code",
      "source": [
        "from sklearn.preprocessing import OneHotEncoder\n",
        "\n",
        "encoder = OneHotEncoder()\n",
        "categoricas = x_train[:,[features[\"job\"],features[\"marital\"],features[\"education\"],features[\"contact\"],features[\"poutcome\"]]]\n",
        "encoder.fit(categoricas)"
      ],
      "metadata": {
        "colab": {
          "base_uri": "https://localhost:8080/"
        },
        "id": "jOvMoBMjFC5i",
        "outputId": "6f4ae29f-cc84-4835-abe8-a117942d4276"
      },
      "execution_count": null,
      "outputs": [
        {
          "output_type": "execute_result",
          "data": {
            "text/plain": [
              "OneHotEncoder()"
            ]
          },
          "metadata": {},
          "execution_count": 21
        }
      ]
    },
    {
      "cell_type": "code",
      "source": [
        "encoder.categories_"
      ],
      "metadata": {
        "colab": {
          "base_uri": "https://localhost:8080/"
        },
        "id": "m61cqLULI3JF",
        "outputId": "315fc41a-acec-402f-e748-87a1214f61b1"
      },
      "execution_count": null,
      "outputs": [
        {
          "output_type": "execute_result",
          "data": {
            "text/plain": [
              "[array(['admin.', 'blue-collar', 'entrepreneur', 'housemaid', 'management',\n",
              "        'retired', 'self-employed', 'services', 'student', 'technician',\n",
              "        'unemployed', 'unknown'], dtype=object),\n",
              " array(['divorced', 'married', 'single'], dtype=object),\n",
              " array(['primary', 'secondary', 'tertiary', 'unknown'], dtype=object),\n",
              " array(['cellular', 'telephone', 'unknown'], dtype=object),\n",
              " array(['failure', 'other', 'success', 'unknown'], dtype=object)]"
            ]
          },
          "metadata": {},
          "execution_count": 104
        }
      ]
    },
    {
      "cell_type": "markdown",
      "source": [
        "Nos deben salir 26 columnas"
      ],
      "metadata": {
        "id": "TWWbzK8WJI1Q"
      }
    },
    {
      "cell_type": "code",
      "source": [
        "encoder.transform(categoricas).toarray().shape"
      ],
      "metadata": {
        "colab": {
          "base_uri": "https://localhost:8080/"
        },
        "id": "kSP_n3xNJNT1",
        "outputId": "6ce2c318-977a-4258-d0c3-5046a84cce7f"
      },
      "execution_count": null,
      "outputs": [
        {
          "output_type": "execute_result",
          "data": {
            "text/plain": [
              "(36168, 26)"
            ]
          },
          "metadata": {},
          "execution_count": 105
        }
      ]
    },
    {
      "cell_type": "code",
      "source": [
        "onehot_categoricas = encoder.transform(categoricas).toarray()"
      ],
      "metadata": {
        "id": "rmHauzx1JXBz"
      },
      "execution_count": null,
      "outputs": []
    },
    {
      "cell_type": "markdown",
      "source": [
        "## Variables binarias"
      ],
      "metadata": {
        "id": "RuWS2WQHFCkI"
      }
    },
    {
      "cell_type": "markdown",
      "source": [
        "default,housing,loan"
      ],
      "metadata": {
        "id": "4bcpVnO-KAZC"
      }
    },
    {
      "cell_type": "code",
      "source": [
        "def transform_binarias(column):\n",
        "  result = np.zeros(column.size)\n",
        "  i = 0\n",
        "  for c in column:\n",
        "    if c == \"yes\":\n",
        "      result[i] = 1.0\n",
        "    else:\n",
        "      result[i] = 0.0\n",
        "    i+=1\n",
        "  return result"
      ],
      "metadata": {
        "id": "DIFbXsurFEsC"
      },
      "execution_count": null,
      "outputs": []
    },
    {
      "cell_type": "code",
      "source": [
        "binarias = np.zeros((len(x_train),3))\n",
        "\n",
        "print(x_train[:,features[\"housing\"]])\n",
        "\n",
        "binarias[:,0] = transform_binarias(x_train[:,features[\"default\"]])\n",
        "binarias[:,1] = transform_binarias(x_train[:,features[\"housing\"]])\n",
        "binarias[:,2] = transform_binarias(x_train[:,features[\"loan\"]])\n",
        "\n",
        "print(binarias)"
      ],
      "metadata": {
        "colab": {
          "base_uri": "https://localhost:8080/"
        },
        "id": "tftqKWIFJ4TO",
        "outputId": "2531fc78-68df-499a-c141-7f1a19a89dfc"
      },
      "execution_count": null,
      "outputs": [
        {
          "output_type": "stream",
          "name": "stdout",
          "text": [
            "['no' 'no' 'yes' ... 'no' 'no' 'yes']\n",
            "[[0. 0. 0.]\n",
            " [0. 0. 0.]\n",
            " [0. 1. 0.]\n",
            " ...\n",
            " [0. 0. 0.]\n",
            " [0. 0. 0.]\n",
            " [0. 1. 0.]]\n"
          ]
        }
      ]
    },
    {
      "cell_type": "markdown",
      "source": [
        "## Variables cíclicas"
      ],
      "metadata": {
        "id": "8S5odqa7FE01"
      }
    },
    {
      "cell_type": "code",
      "source": [
        "def sin_cos(m):\n",
        "  months = {\"jan\":0,\"feb\":1,\"mar\":2,\"apr\":3,\"may\":4,\"jun\":5,\"jul\":6,\"aug\":7,\"sep\":8,\"oct\":9,\"nov\":10,\"dec\":11}\n",
        "  return np.sin(2*np.pi*months[m]/12), np.cos(2*np.pi*months[m]/12)\n",
        "\n",
        "def month_encoder(column):\n",
        "  result = np.zeros([column.size,2])\n",
        "  i = 0\n",
        "  for m in column:\n",
        "    result[i,0], result[i,1] = sin_cos(m)\n",
        "    i+=1\n",
        "  return result"
      ],
      "metadata": {
        "id": "3widnLk4FG_3"
      },
      "execution_count": null,
      "outputs": []
    },
    {
      "cell_type": "code",
      "source": [
        "sin_cos_columns = month_encoder(x_train[:,features[\"month\"]])"
      ],
      "metadata": {
        "id": "h7MmGcf1IFMV"
      },
      "execution_count": null,
      "outputs": []
    },
    {
      "cell_type": "code",
      "source": [
        "def sin_cos_day(d):\n",
        "  return np.sin(2*np.pi*d/31),np.cos(2*np.pi*d/31)\n",
        "\n",
        "def day_encoder(column):\n",
        "  result = np.zeros([column.size,2])\n",
        "  i=0\n",
        "  for d in column:\n",
        "    result[i,0],result[i,1] = sin_cos_day(d)\n",
        "    i+=1\n",
        "  return result"
      ],
      "metadata": {
        "id": "EaWaHnsj_Cwv"
      },
      "execution_count": null,
      "outputs": []
    },
    {
      "cell_type": "code",
      "source": [
        "day_sin_cos = day_encoder(x_train[:,features[\"day\"]])\n",
        "print(day_sin_cos.shape)"
      ],
      "metadata": {
        "colab": {
          "base_uri": "https://localhost:8080/"
        },
        "id": "nWAUAQGT_VmE",
        "outputId": "72b543b8-0233-4ca4-810a-fb59f0594a6b"
      },
      "execution_count": null,
      "outputs": [
        {
          "output_type": "stream",
          "name": "stdout",
          "text": [
            "(36168, 2)\n"
          ]
        }
      ]
    },
    {
      "cell_type": "code",
      "source": [
        "x_train_transformed = np.delete(x_train, [features[\"job\"],features[\"marital\"],features[\"education\"],features[\"contact\"],features[\"poutcome\"],features[\"default\"],features[\"housing\"],features[\"loan\"],features[\"month\"],features[\"day\"]],1)\n",
        "\n",
        "print(x_train_transformed.shape)\n",
        "x_train_final = []"
      ],
      "metadata": {
        "colab": {
          "base_uri": "https://localhost:8080/"
        },
        "id": "flDo9SJ8NJcS",
        "outputId": "315c48c4-2204-42f9-bdb9-a444249e2d45"
      },
      "execution_count": null,
      "outputs": [
        {
          "output_type": "stream",
          "name": "stdout",
          "text": [
            "(36168, 6)\n"
          ]
        }
      ]
    },
    {
      "cell_type": "code",
      "source": [
        "x_train_final = np.append(x_train_transformed, onehot_categoricas, 1)\n",
        "x_train_final = np.append(x_train_final, sin_cos_columns, 1)\n",
        "x_train_final = np.append(x_train_final, day_sin_cos,1)\n",
        "x_train_final = np.append(x_train_final, binarias, 1)\n",
        "\n",
        "print(x_train_final.shape)"
      ],
      "metadata": {
        "colab": {
          "base_uri": "https://localhost:8080/"
        },
        "id": "-8Ybj0IDOKx2",
        "outputId": "145b9985-733f-49d8-ed85-86036c5c6893"
      },
      "execution_count": null,
      "outputs": [
        {
          "output_type": "stream",
          "name": "stdout",
          "text": [
            "(36168, 39)\n"
          ]
        }
      ]
    },
    {
      "cell_type": "code",
      "source": [
        "np.savetxt(\"/content/drive/MyDrive/3º GII/2Cuatri/AA/Praticas/Practica3/Clasificacion/Nx39.csv\",x_train_final,delimiter=\";\")"
      ],
      "metadata": {
        "id": "qjnFnAor_2K0"
      },
      "execution_count": null,
      "outputs": []
    },
    {
      "cell_type": "markdown",
      "source": [
        "## Escalado"
      ],
      "metadata": {
        "id": "Ce7DZOxHPCBc"
      }
    },
    {
      "cell_type": "markdown",
      "source": [
        "Solo se escalan las 6 primeras porque binarias y one-hot ya en 0-1, sin-cos en -1-1"
      ],
      "metadata": {
        "id": "afHqCEtNASdY"
      }
    },
    {
      "cell_type": "code",
      "source": [
        "from sklearn.preprocessing import MinMaxScaler\n",
        "\n",
        "scaler = MinMaxScaler()\n",
        "\n",
        "scaler.fit(x_train_final)\n",
        "x_train_transformed = scaler.transform(x_train_final)\n",
        "\n",
        "min = x_train_transformed[0,0]\n",
        "max = x_train_transformed[0,0]\n",
        "\n",
        "for i in range(len(x_train_transformed)):\n",
        "  for j in range(x_train_transformed[i].size):\n",
        "    if x_train_transformed[i,j] > max:\n",
        "      max = x_train_transformed[i,j]\n",
        "    if x_train_transformed[i,j] < min:\n",
        "      min = x_train_transformed[i,j]\n",
        "\n",
        "print(min, \", \",max)\n",
        "print(x_train_transformed.shape)"
      ],
      "metadata": {
        "colab": {
          "base_uri": "https://localhost:8080/"
        },
        "id": "hHSUNSXSPBkd",
        "outputId": "b16b8925-a98c-4d50-97e0-2b2702a523e3"
      },
      "execution_count": null,
      "outputs": [
        {
          "output_type": "stream",
          "name": "stdout",
          "text": [
            "0.0 ,  1.0\n",
            "(36168, 39)\n"
          ]
        }
      ]
    },
    {
      "cell_type": "code",
      "source": [
        "def transform_class(y):\n",
        "  result = np.zeros(y.size)\n",
        "  for i in range(y.size):\n",
        "    if y[i] == \"yes\":\n",
        "      result[i] = 1.0\n",
        "    else:\n",
        "      result[i] = -1.0\n",
        "  return result"
      ],
      "metadata": {
        "id": "XA4VP6-26jSh"
      },
      "execution_count": null,
      "outputs": []
    },
    {
      "cell_type": "code",
      "source": [
        "print(x_train_transformed.shape)\n",
        "print(y_train.shape)\n",
        "\n",
        "pandas.DataFrame(x_train_transformed).to_csv(\"/content/drive/MyDrive/3º GII/2Cuatri/AA/Praticas/Practica3/Clasificacion/data/X_train.csv\",sep=\";\")\n",
        "pandas.DataFrame(transform_class(y_train)).to_csv(\"/content/drive/MyDrive/3º GII/2Cuatri/AA/Praticas/Practica3/Clasificacion/data/y_train.csv\",sep=\";\")"
      ],
      "metadata": {
        "id": "DaxRjTs3Anme",
        "colab": {
          "base_uri": "https://localhost:8080/"
        },
        "outputId": "7730d340-2423-460e-940c-942fb563e9f2"
      },
      "execution_count": null,
      "outputs": [
        {
          "output_type": "stream",
          "name": "stdout",
          "text": [
            "(36168, 39)\n",
            "(36168,)\n"
          ]
        }
      ]
    },
    {
      "cell_type": "markdown",
      "source": [
        "# 6. Selección de modelo, parámetros y regularización\n"
      ],
      "metadata": {
        "id": "bVsOhFUq6wIo"
      }
    },
    {
      "cell_type": "code",
      "source": [
        "import pandas\n",
        "import numpy as np\n",
        "\n",
        "x_train_file = \"/content/drive/MyDrive/3º GII/2Cuatri/AA/Praticas/Practica3/Clasificacion/data/X_train.csv\"\n",
        "y_train_file = \"/content/drive/MyDrive/3º GII/2Cuatri/AA/Praticas/Practica3/Clasificacion/data/y_train.csv\"\n",
        "\n",
        "X = pandas.read_csv(x_train_file, sep=\";\").to_numpy()[:,1:]\n",
        "y = pandas.read_csv(y_train_file, sep=\";\").to_numpy()[:,1]\n",
        "\n",
        "print(X)\n",
        "print(y.size)"
      ],
      "metadata": {
        "colab": {
          "base_uri": "https://localhost:8080/"
        },
        "id": "lkTK581L6-L4",
        "outputId": "13f6f02c-ef29-4ade-951a-e3440dabb974"
      },
      "execution_count": null,
      "outputs": [
        {
          "output_type": "stream",
          "name": "stdout",
          "text": [
            "[[0.50649351 0.07877726 0.14721431 ... 0.         0.         0.        ]\n",
            " [0.24675325 0.08822835 0.01281009 ... 0.         0.         0.        ]\n",
            " [0.22077922 0.09843299 0.02074014 ... 0.         1.         0.        ]\n",
            " ...\n",
            " [0.22077922 0.07573584 0.05307035 ... 0.         0.         0.        ]\n",
            " [0.67532468 0.07839595 0.03029687 ... 0.         0.         0.        ]\n",
            " [0.36363636 0.07332087 0.03944693 ... 0.         1.         0.        ]]\n",
            "36168\n"
          ]
        }
      ]
    },
    {
      "cell_type": "markdown",
      "source": [
        "## Perceptron"
      ],
      "metadata": {
        "id": "8UtfRtM_62V6"
      }
    },
    {
      "cell_type": "markdown",
      "source": [
        "### Max_iter"
      ],
      "metadata": {
        "id": "llV2TzBscQwi"
      }
    },
    {
      "cell_type": "code",
      "source": [
        "from sklearn.linear_model import Perceptron\n",
        "\n",
        "pla = Perceptron()"
      ],
      "metadata": {
        "id": "w_inN17G65aS"
      },
      "execution_count": null,
      "outputs": []
    },
    {
      "cell_type": "code",
      "source": [
        "from sklearn.model_selection import cross_val_score\n",
        "import matplotlib.pyplot as plt\n",
        "\n",
        "np.random.seed(0)\n",
        "num_exp = 6\n",
        "Ecvs_medios = np.zeros(num_exp)\n",
        "xs = np.zeros(6)\n",
        "\n",
        "max_iter = 10\n",
        "for i in range(num_exp):\n",
        "  xs[i] = max_iter\n",
        "  Ecvs_medios[i] = np.average(cross_val_score(Perceptron(max_iter=max_iter),X,y,cv=5,scoring='accuracy'))\n",
        "  max_iter *= 10\n",
        "\n",
        "fig = plt.figure()\n",
        "ax = fig.add_subplot()\n",
        "ax.plot(xs, Ecvs_medios)\n",
        "ax.set_title(\"Evolución del ajuste respecto al número máximo de iteraciones\")\n",
        "ax.set_xlabel(\"Max_iter\")\n",
        "ax.set_ylabel(\"Porcentaje de aciertos medio en validación\")\n",
        "ax.set_xscale(\"log\")"
      ],
      "metadata": {
        "colab": {
          "base_uri": "https://localhost:8080/",
          "height": 300
        },
        "id": "F_hdR58QcNKJ",
        "outputId": "12829286-e7b0-45fb-c81b-5ffac787e707"
      },
      "execution_count": null,
      "outputs": [
        {
          "output_type": "display_data",
          "data": {
            "text/plain": [
              "<Figure size 432x288 with 1 Axes>"
            ],
            "image/png": "[encoded data removed]"
          },
          "metadata": {
            "needs_background": "light"
          }
        }
      ]
    },
    {
      "cell_type": "markdown",
      "source": [
        "### Regularization, lr, lambda y tol"
      ],
      "metadata": {
        "id": "bVjd3sYyDXpH"
      }
    },
    {
      "cell_type": "code",
      "source": [
        "from sklearn.model_selection import GridSearchCV\n",
        "\n",
        "params = {'penalty':['l1','l2'],\n",
        "          'alpha':[1e-6,1e-5,1e-4],\n",
        "          'eta0':[0.1,1,10],\n",
        "          'tol':[1e-3,1e-2,0.1]}\n",
        "\n",
        "pla = GridSearchCV(Perceptron(max_iter=100,n_jobs=-1),params,n_jobs=-1)\n",
        "pla.fit(X,y)"
      ],
      "metadata": {
        "colab": {
          "base_uri": "https://localhost:8080/"
        },
        "id": "I4TokB1CDnBe",
        "outputId": "9f98ecb2-5231-4963-bba9-2fd25f67d16f"
      },
      "execution_count": null,
      "outputs": [
        {
          "output_type": "execute_result",
          "data": {
            "text/plain": [
              "GridSearchCV(estimator=Perceptron(max_iter=100, n_jobs=-1), n_jobs=-1,\n",
              "             param_grid={'alpha': [1e-06, 1e-05, 0.0001], 'eta0': [0.1, 1, 10],\n",
              "                         'penalty': ['l1', 'l2'], 'tol': [0.001, 0.01, 0.1]})"
            ]
          },
          "metadata": {},
          "execution_count": 19
        }
      ]
    },
    {
      "cell_type": "code",
      "source": [
        "print(pla.best_params_)"
      ],
      "metadata": {
        "colab": {
          "base_uri": "https://localhost:8080/"
        },
        "id": "gvOlvIuNEXZh",
        "outputId": "91a60226-390f-48a8-ddaa-7f0ca7f30b96"
      },
      "execution_count": null,
      "outputs": [
        {
          "output_type": "stream",
          "name": "stdout",
          "text": [
            "{'alpha': 1e-06, 'eta0': 1, 'penalty': 'l2', 'tol': 0.001}\n"
          ]
        }
      ]
    },
    {
      "cell_type": "code",
      "source": [
        "PLA = Perceptron(penalty='l2',alpha=1e-6,eta0=1,tol=1e-3,max_iter=100,n_jobs=-1)"
      ],
      "metadata": {
        "id": "s0ekwTunKywv"
      },
      "execution_count": null,
      "outputs": []
    },
    {
      "cell_type": "markdown",
      "source": [
        "## Regresión logística"
      ],
      "metadata": {
        "id": "jIbYOi01jgfU"
      }
    },
    {
      "cell_type": "code",
      "source": [
        "from sklearn.linear_model import LogisticRegression"
      ],
      "metadata": {
        "id": "Mb98UWeyji_9"
      },
      "execution_count": null,
      "outputs": []
    },
    {
      "cell_type": "markdown",
      "source": [
        "### Max_iter"
      ],
      "metadata": {
        "id": "0QiW9np_IXMp"
      }
    },
    {
      "cell_type": "code",
      "source": [
        "np.random.seed(0)\n",
        "num_exp = 3\n",
        "Ecvs_medios = np.zeros(num_exp)\n",
        "xs = np.zeros(num_exp)\n",
        "\n",
        "max_iter = 1e2\n",
        "for i in range(num_exp):\n",
        "  xs[i] = max_iter\n",
        "  Ecvs_medios[i] = np.average(cross_val_score(LogisticRegression(max_iter=max_iter,solver='liblinear'),X,y,cv=5,scoring='accuracy'))\n",
        "  max_iter *= 10\n",
        "\n",
        "fig = plt.figure()\n",
        "ax = fig.add_subplot()\n",
        "ax.plot(xs, Ecvs_medios)\n",
        "ax.set_title(\"Evolución del ajuste RL respecto al número máximo de iteraciones\")\n",
        "ax.set_xlabel(\"Max_iter\")\n",
        "ax.set_ylabel(\"Porcentaje de aciertos medio en validación\")\n",
        "ax.set_xscale(\"log\")"
      ],
      "metadata": {
        "colab": {
          "base_uri": "https://localhost:8080/",
          "height": 300
        },
        "outputId": "40df7f8d-c071-4cad-af4c-35027b365bd9",
        "id": "8x_T45oOIXMp"
      },
      "execution_count": null,
      "outputs": [
        {
          "output_type": "display_data",
          "data": {
            "text/plain": [
              "<Figure size 432x288 with 1 Axes>"
            ],
            "image/png": "[encoded data removed]"
          },
          "metadata": {
            "needs_background": "light"
          }
        }
      ]
    },
    {
      "cell_type": "markdown",
      "source": [
        "### Solver, Regularizacion, Constante de regularización, Tol, Warm_start"
      ],
      "metadata": {
        "id": "-75NeN8AHsir"
      }
    },
    {
      "cell_type": "code",
      "source": [
        "from sklearn.model_selection import GridSearchCV\n",
        "from sklearn.linear_model import LogisticRegression\n",
        "\n",
        "params_rl = {'penalty':['l1','l2'],\n",
        "          'solver':['liblinear','saga'],\n",
        "          'tol':[1e-5,1e-4,1e-3],\n",
        "          'C':[1e-2,0.1,1],\n",
        "          'warm_start':[True,False]}\n",
        "\n",
        "RL = GridSearchCV(LogisticRegression(max_iter=100,n_jobs=-1),params_rl,n_jobs=-1)\n",
        "RL.fit(X,y)"
      ],
      "metadata": {
        "colab": {
          "base_uri": "https://localhost:8080/"
        },
        "id": "Kndd-hBcHwFo",
        "outputId": "66c47347-5b87-4eec-8c5c-8b378f3c08f0"
      },
      "execution_count": null,
      "outputs": [
        {
          "output_type": "execute_result",
          "data": {
            "text/plain": [
              "GridSearchCV(estimator=LogisticRegression(n_jobs=-1), n_jobs=-1,\n",
              "             param_grid={'C': [0.01, 0.1, 1], 'penalty': ['l1', 'l2'],\n",
              "                         'solver': ['liblinear', 'saga'],\n",
              "                         'tol': [1e-05, 0.0001, 0.001],\n",
              "                         'warm_start': [True, False]})"
            ]
          },
          "metadata": {},
          "execution_count": 28
        }
      ]
    },
    {
      "cell_type": "code",
      "source": [
        "print(RL.best_params_)"
      ],
      "metadata": {
        "colab": {
          "base_uri": "https://localhost:8080/"
        },
        "id": "BqD4nNzRJvus",
        "outputId": "cbff15dd-fe02-499c-c508-b6174ed4dd37"
      },
      "execution_count": null,
      "outputs": [
        {
          "output_type": "stream",
          "name": "stdout",
          "text": [
            "{'C': 0.1, 'penalty': 'l1', 'solver': 'saga', 'tol': 0.001, 'warm_start': True}\n"
          ]
        }
      ]
    },
    {
      "cell_type": "code",
      "source": [
        "RL = LogisticRegression(C=0.1,penalty='l1',solver='saga',tol=0.001,warm_start=True,n_jobs=-1)"
      ],
      "metadata": {
        "id": "u2O3KUEkLGN1"
      },
      "execution_count": null,
      "outputs": []
    },
    {
      "cell_type": "markdown",
      "source": [
        "## Comparación PLA - RL"
      ],
      "metadata": {
        "id": "5DfnARvDlk5d"
      }
    },
    {
      "cell_type": "code",
      "source": [
        "Errs = {'PLA':cross_val_score(PLA, X,y,cv=5,scoring='accuracy'), \n",
        "        'RL' :cross_val_score(RL, X,y,cv=5,scoring='accuracy')}"
      ],
      "metadata": {
        "id": "JY5ONyIWrqYx"
      },
      "execution_count": null,
      "outputs": []
    },
    {
      "cell_type": "code",
      "source": [
        "X_axis = np.arange(len(Errs['PLA']))\n",
        "\n",
        "plt.bar(X_axis-0.2, Errs['PLA'],0.4,label='PLA')\n",
        "plt.bar(X_axis+0.2, Errs['RL'],0.4,label='RL')\n",
        "\n",
        "plt.xticks(X_axis,X_axis)\n",
        "plt.xlabel(\"Iteraciones del cross validation\")\n",
        "plt.ylabel(\"Aciertos conseguidos\")\n",
        "plt.title(\"Aciertos conseguidos en cada iteración del 5-fold cv\")\n",
        "plt.legend(loc=3)\n",
        "plt.show()"
      ],
      "metadata": {
        "colab": {
          "base_uri": "https://localhost:8080/",
          "height": 295
        },
        "id": "3-KGWcimp3Qe",
        "outputId": "a9b891f2-8844-4339-dddc-4dcda4eff995"
      },
      "execution_count": null,
      "outputs": [
        {
          "output_type": "display_data",
          "data": {
            "text/plain": [
              "<Figure size 432x288 with 1 Axes>"
            ],
            "image/png": "[encoded data removed]"
          },
          "metadata": {
            "needs_background": "light"
          }
        }
      ]
    },
    {
      "cell_type": "markdown",
      "source": [
        "# Entrenamiento RL"
      ],
      "metadata": {
        "id": "xe3zhnlPsgzf"
      }
    },
    {
      "cell_type": "code",
      "source": [
        "RL.fit(X,y)\n",
        "\n",
        "print(RL.coef_)\n",
        "print(\"Ein: \", 1-RL.score(X,y))"
      ],
      "metadata": {
        "colab": {
          "base_uri": "https://localhost:8080/"
        },
        "id": "lKkRC2AlsgT7",
        "outputId": "b3085ecb-b5eb-4092-eb22-fcbdd1c4bc34"
      },
      "execution_count": null,
      "outputs": [
        {
          "output_type": "stream",
          "name": "stdout",
          "text": [
            "[[ 0.00000000e+00  0.00000000e+00  1.88835503e+01 -2.32726965e+00\n",
            "   0.00000000e+00  0.00000000e+00  1.94368631e-01 -1.37005047e-01\n",
            "  -1.53602519e-01 -1.37235647e-01  1.39198562e-02  5.81507604e-01\n",
            "   0.00000000e+00 -5.90589784e-02  5.81272813e-01  0.00000000e+00\n",
            "   0.00000000e+00  0.00000000e+00  0.00000000e+00 -2.13066011e-01\n",
            "   1.04604458e-01 -1.62119016e-01 -3.26528440e-03  1.95704822e-01\n",
            "   0.00000000e+00  1.46436204e-01  0.00000000e+00 -1.10333061e+00\n",
            "  -2.70546166e-02  1.80696492e-02  2.26866786e+00 -3.06664779e-01\n",
            "   3.34232908e-01  2.38566699e-01  1.02170633e-01  4.12996077e-02\n",
            "   0.00000000e+00 -8.32387454e-01 -5.53401515e-01]]\n",
            "Ein:  0.09925901349259014\n"
          ]
        }
      ]
    },
    {
      "cell_type": "code",
      "source": [
        "print(RL.score(X,y))"
      ],
      "metadata": {
        "colab": {
          "base_uri": "https://localhost:8080/"
        },
        "id": "zrOoVNgRhoP7",
        "outputId": "a4aaaf7e-d937-4bab-ead3-0087bf84dbde"
      },
      "execution_count": null,
      "outputs": [
        {
          "output_type": "stream",
          "name": "stdout",
          "text": [
            "0.9007409865074099\n"
          ]
        }
      ]
    },
    {
      "cell_type": "markdown",
      "source": [
        "## Comparación con estimador naive"
      ],
      "metadata": {
        "id": "LUiBkOYPqn0r"
      }
    },
    {
      "cell_type": "code",
      "source": [
        "from sklearn.dummy import DummyClassifier\n",
        "from sklearn.linear_model import LogisticRegression\n",
        "from sklearn.model_selection import cross_val_score\n",
        "\n",
        "Evs = {'RL':cross_val_score(LogisticRegression(max_iter=1e3,penalty='l1',solver='liblinear',C=1e-1),X,y,scoring='accuracy'),\n",
        "       'Common':cross_val_score(DummyClassifier(strategy='most_frequent'),X,y,scoring='accuracy')}\n",
        "\n",
        "print(\"Relación accuracy RL vs Most Common: \", Evs['RL'].mean(), \" ,\" ,Evs['Common'].mean())"
      ],
      "metadata": {
        "colab": {
          "base_uri": "https://localhost:8080/"
        },
        "outputId": "c19f2784-f1af-4c68-874f-a1ecae2721de",
        "id": "Vzz5oI2qqn0s"
      },
      "execution_count": null,
      "outputs": [
        {
          "output_type": "stream",
          "name": "stdout",
          "text": [
            "Relación desempeño RL_unbalanced vs Most Common:  0.9006858139251406  , 0.8831563823245692\n"
          ]
        }
      ]
    },
    {
      "cell_type": "code",
      "source": [
        "cross_val_score(LogisticRegression(max_iter=1e3,penalty='l1',solver='liblinear',C=1e-1),X,y,scoring='accuracy').mean()"
      ],
      "metadata": {
        "colab": {
          "base_uri": "https://localhost:8080/"
        },
        "outputId": "dceb4145-81ad-4510-84ca-264c33e8d312",
        "id": "UlkD5_oyqn0s"
      },
      "execution_count": null,
      "outputs": [
        {
          "output_type": "execute_result",
          "data": {
            "text/plain": [
              "0.9006858139251406"
            ]
          },
          "metadata": {},
          "execution_count": 13
        }
      ]
    },
    {
      "cell_type": "code",
      "source": [
        "Recallsvs = Evs = {'RL':cross_val_score(LogisticRegression(max_iter=1e3,penalty='l1',solver='liblinear',C=1e-1),X,y,scoring='recall'),\n",
        "       'Common':cross_val_score(DummyClassifier(strategy='most_frequent'),X,y,scoring='recall')}\n",
        "\n",
        "print(\"Relación recall RL vs Most Common: \", Recallsvs['RL'].mean(), \" ,\" ,Recallsvs['Common'].mean())"
      ],
      "metadata": {
        "colab": {
          "base_uri": "https://localhost:8080/"
        },
        "id": "oY2uieQWXfeY",
        "outputId": "2d0d2524-6588-474d-d04a-469015ac8dbf"
      },
      "execution_count": null,
      "outputs": [
        {
          "output_type": "stream",
          "name": "stdout",
          "text": [
            "Relación recall RL vs Most Common:  0.31022451634562925  , 0.0\n"
          ]
        }
      ]
    },
    {
      "cell_type": "markdown",
      "source": [
        "## Desbalanceo de clases"
      ],
      "metadata": {
        "id": "PB_VXY13H2Px"
      }
    },
    {
      "cell_type": "code",
      "source": [
        "def recall(y_true,y_predict):\n",
        "  TP = 0\n",
        "  P = 0\n",
        "  for i in range(y_true.size):\n",
        "    if y_true[i]==1.0:\n",
        "      P+=1\n",
        "      if y_predict[i]==1.0:\n",
        "        TP += 1\n",
        "  return TP/P"
      ],
      "metadata": {
        "id": "CI_GkD7gYHan"
      },
      "execution_count": null,
      "outputs": []
    },
    {
      "cell_type": "code",
      "source": [
        "RL = LogisticRegression(max_iter=1e3, penalty='l1',solver = 'liblinear',C=1e-1)\n",
        "RL.fit(X,y)\n",
        "print(\"Recall en la muestra: \", recall(y,RL.predict(X)))"
      ],
      "metadata": {
        "colab": {
          "base_uri": "https://localhost:8080/"
        },
        "id": "rEFi9siTYvnT",
        "outputId": "a633446d-ddd5-4aad-ab18-9e8423393fe2"
      },
      "execution_count": null,
      "outputs": [
        {
          "output_type": "stream",
          "name": "stdout",
          "text": [
            "Recall en la muestra:  0.31282536677709416\n"
          ]
        }
      ]
    },
    {
      "cell_type": "code",
      "source": [
        "unique, counts = np.unique(y, return_counts=True)\n",
        "proporciones = dict(zip(unique, counts))\n",
        "\n",
        "print(proporciones)\n",
        "\n",
        "prop = proporciones[-1.0]/proporciones[1.0]\n",
        "\n",
        "proporciones[-1.0] = 1\n",
        "proporciones[1.0] = prop"
      ],
      "metadata": {
        "colab": {
          "base_uri": "https://localhost:8080/"
        },
        "id": "-JuKACz4Xm6D",
        "outputId": "bfb7cff2-83e1-4374-ce35-2d54177fe966"
      },
      "execution_count": null,
      "outputs": [
        {
          "output_type": "stream",
          "name": "stdout",
          "text": [
            "{-1.0: 31942, 1.0: 4226}\n"
          ]
        }
      ]
    },
    {
      "cell_type": "code",
      "source": [
        "RL = LogisticRegression(max_iter=1e3, penalty='l1',solver = 'liblinear',C=1e-1,class_weight=proporciones)\n",
        "RL.fit(X,y)\n",
        "print(\"Recall: \", recall(y, RL.predict(X))) \n",
        "print(\"Porcentaje de aciertos en la muestra: \", RL.score(X,y))"
      ],
      "metadata": {
        "colab": {
          "base_uri": "https://localhost:8080/"
        },
        "id": "6lHfJHlubyxq",
        "outputId": "b3b5b5a0-f406-47cc-ea40-5eaa565ed2f8"
      },
      "execution_count": null,
      "outputs": [
        {
          "output_type": "stream",
          "name": "stdout",
          "text": [
            "Recall:  0.7998106956933271\n",
            "Porcentaje de aciertos en la muestra:  0.8313426233134262\n"
          ]
        }
      ]
    },
    {
      "cell_type": "markdown",
      "source": [
        "# Conjunto de test"
      ],
      "metadata": {
        "id": "smeCGF2Xsq8d"
      }
    },
    {
      "cell_type": "code",
      "source": [
        "x_test_file = \"/content/drive/MyDrive/3º GII/2Cuatri/AA/Praticas/Practica3/Clasificacion/data/X_test_orig.csv\"\n",
        "y_test_file = \"/content/drive/MyDrive/3º GII/2Cuatri/AA/Praticas/Practica3/Clasificacion/data/y_test.csv\"\n",
        "\n",
        "X_test = pandas.read_csv(x_test_file, sep=\",\").to_numpy()[:,1:]\n",
        "y_test = pandas.read_csv(y_test_file, sep=\";\").to_numpy()[:,1]\n",
        "\n",
        "print(X_test.shape)\n",
        "print(y_test)"
      ],
      "metadata": {
        "colab": {
          "base_uri": "https://localhost:8080/"
        },
        "id": "Op2-UGpOspLy",
        "outputId": "afd08ce3-31fc-4b07-f690-1ce7f812e19d"
      },
      "execution_count": null,
      "outputs": [
        {
          "output_type": "stream",
          "name": "stdout",
          "text": [
            "(9043, 16)\n",
            "[-1.  1. -1. ... -1.  1. -1.]\n"
          ]
        }
      ]
    },
    {
      "cell_type": "markdown",
      "source": [
        "### Preprocesado"
      ],
      "metadata": {
        "id": "73FWF3T-uoJp"
      }
    },
    {
      "cell_type": "code",
      "source": [
        "categoricas_test = X_test[:,[features[\"job\"],features[\"marital\"],features[\"education\"],features[\"contact\"],features[\"poutcome\"]]]\n",
        "\n",
        "one_hot_test = encoder.transform(categoricas_test)\n",
        "print(one_hot_test.toarray().shape)"
      ],
      "metadata": {
        "colab": {
          "base_uri": "https://localhost:8080/"
        },
        "id": "ajpAN1d4uquV",
        "outputId": "0d7618d3-dc20-4e46-dd8e-a7fc4ba0a310"
      },
      "execution_count": null,
      "outputs": [
        {
          "output_type": "stream",
          "name": "stdout",
          "text": [
            "(9043, 26)\n"
          ]
        }
      ]
    },
    {
      "cell_type": "code",
      "source": [
        "def transform_binarias(column):\n",
        "  result = np.zeros(column.size)\n",
        "  i = 0\n",
        "  for c in column:\n",
        "    if c == \"yes\":\n",
        "      result[i] = 1.0\n",
        "    else:\n",
        "      result[i] = 0.0\n",
        "    i+=1\n",
        "  return result"
      ],
      "metadata": {
        "id": "ijMlLemxum71"
      },
      "execution_count": null,
      "outputs": []
    },
    {
      "cell_type": "code",
      "source": [
        "binarias = np.zeros((len(X_test),3))\n",
        "\n",
        "binarias[:,0] = transform_binarias(X_test[:,features[\"default\"]])\n",
        "binarias[:,1] = transform_binarias(X_test[:,features[\"housing\"]])\n",
        "binarias[:,2] = transform_binarias(X_test[:,features[\"loan\"]])\n",
        "\n",
        "print(binarias)"
      ],
      "metadata": {
        "colab": {
          "base_uri": "https://localhost:8080/"
        },
        "id": "ySvI3y6euQGc",
        "outputId": "5e4d18ef-f16e-4c26-d9dc-ad33213071cc"
      },
      "execution_count": null,
      "outputs": [
        {
          "output_type": "stream",
          "name": "stdout",
          "text": [
            "[[0. 1. 0.]\n",
            " [0. 1. 0.]\n",
            " [0. 0. 1.]\n",
            " ...\n",
            " [0. 0. 0.]\n",
            " [0. 0. 0.]\n",
            " [0. 0. 1.]]\n"
          ]
        }
      ]
    },
    {
      "cell_type": "code",
      "source": [
        "day_coded_test = day_encoder(X_test[:,features[\"day\"]])\n",
        "month_coded_test = month_encoder(X_test[:,features[\"month\"]])\n",
        "\n",
        "print(day_coded_test)\n",
        "print(month_coded_test)"
      ],
      "metadata": {
        "colab": {
          "base_uri": "https://localhost:8080/"
        },
        "id": "gKfF1_3RvGBw",
        "outputId": "663ee9f6-d4ea-4974-8856-b6febcc858cd"
      },
      "execution_count": null,
      "outputs": [
        {
          "output_type": "stream",
          "name": "stdout",
          "text": [
            "[[ 0.89780454 -0.44039415]\n",
            " [ 0.29936312 -0.95413926]\n",
            " [ 0.99871651 -0.05064917]\n",
            " ...\n",
            " [-0.93775213  0.34730525]\n",
            " [ 0.84864426  0.52896401]\n",
            " [ 0.99871651 -0.05064917]]\n",
            "[[ 1.22464680e-16 -1.00000000e+00]\n",
            " [ 1.00000000e+00  6.12323400e-17]\n",
            " [ 1.22464680e-16 -1.00000000e+00]\n",
            " ...\n",
            " [ 1.22464680e-16 -1.00000000e+00]\n",
            " [ 5.00000000e-01 -8.66025404e-01]\n",
            " [ 1.22464680e-16 -1.00000000e+00]]\n"
          ]
        }
      ]
    },
    {
      "cell_type": "code",
      "source": [
        "X_test_transformed = np.delete(X_test, [features[\"job\"],features[\"marital\"],features[\"education\"],features[\"contact\"],features[\"poutcome\"],features[\"default\"],features[\"housing\"],features[\"loan\"],features[\"month\"],features[\"day\"]],1)\n",
        "\n",
        "print(X_test_transformed.shape)"
      ],
      "metadata": {
        "colab": {
          "base_uri": "https://localhost:8080/"
        },
        "id": "Sj1Y71cyvaxc",
        "outputId": "744904bd-6d8e-47fa-9faa-7e162e25fdd9"
      },
      "execution_count": null,
      "outputs": [
        {
          "output_type": "stream",
          "name": "stdout",
          "text": [
            "(9043, 6)\n"
          ]
        }
      ]
    },
    {
      "cell_type": "code",
      "source": [
        "X_test_final = np.append(X_test_transformed, one_hot_test.toarray(), 1)\n",
        "X_test_final = np.append(X_test_final, month_coded_test, 1)\n",
        "X_test_final = np.append(X_test_final, day_coded_test,1)\n",
        "X_test_final = np.append(X_test_final, binarias, 1)\n",
        "\n",
        "print(X_test_final.shape)"
      ],
      "metadata": {
        "colab": {
          "base_uri": "https://localhost:8080/"
        },
        "id": "9fHnDxjYvhf8",
        "outputId": "ad3c8450-6062-465b-ee5a-3bb8df939e68"
      },
      "execution_count": null,
      "outputs": [
        {
          "output_type": "stream",
          "name": "stdout",
          "text": [
            "(9043, 39)\n"
          ]
        }
      ]
    },
    {
      "cell_type": "code",
      "source": [
        "X_test = scaler.transform(X_test_final)\n",
        "\n",
        "print(X_test.shape)\n",
        "\n",
        "pandas.DataFrame(X_test).to_csv(\"/content/drive/MyDrive/3º GII/2Cuatri/AA/Praticas/Practica3/Clasificacion/data/X_test.csv\",sep=\";\")"
      ],
      "metadata": {
        "colab": {
          "base_uri": "https://localhost:8080/"
        },
        "id": "DhIk6ecUv9g_",
        "outputId": "7cd920de-9372-4cab-fc86-fdb21eccfdec"
      },
      "execution_count": null,
      "outputs": [
        {
          "output_type": "stream",
          "name": "stdout",
          "text": [
            "(9043, 39)\n"
          ]
        }
      ]
    },
    {
      "cell_type": "code",
      "source": [
        "print(transform_class(y_test))"
      ],
      "metadata": {
        "colab": {
          "base_uri": "https://localhost:8080/"
        },
        "id": "rx_jtAEJwlu0",
        "outputId": "4a702690-1c62-44c8-ab15-69e052974651"
      },
      "execution_count": null,
      "outputs": [
        {
          "output_type": "stream",
          "name": "stdout",
          "text": [
            "[-1.  1. -1. ... -1.  1. -1.]\n"
          ]
        }
      ]
    },
    {
      "cell_type": "code",
      "source": [
        "pandas.DataFrame(transform_class(y_test)).to_csv(\"/content/drive/MyDrive/3º GII/2Cuatri/AA/Praticas/Practica3/Clasificacion/data/y_test.csv\",sep=\";\")"
      ],
      "metadata": {
        "id": "K1_Kfb63wVam"
      },
      "execution_count": null,
      "outputs": []
    },
    {
      "cell_type": "markdown",
      "source": [
        "# Cota Eout"
      ],
      "metadata": {
        "id": "JsV8dbuJw60g"
      }
    },
    {
      "cell_type": "code",
      "source": [
        "x_test_file = \"/content/drive/MyDrive/3º GII/2Cuatri/AA/Praticas/Practica3/Clasificacion/data/X_test.csv\"\n",
        "y_test_file = \"/content/drive/MyDrive/3º GII/2Cuatri/AA/Praticas/Practica3/Clasificacion/data/y_test.csv\"\n",
        "\n",
        "X_test = pandas.read_csv(x_test_file, sep=\";\").to_numpy()[:,1:]\n",
        "y_test = pandas.read_csv(y_test_file, sep=\";\").to_numpy()[:,1]\n",
        "\n",
        "print(X_test)\n",
        "print(y_test)"
      ],
      "metadata": {
        "colab": {
          "base_uri": "https://localhost:8080/"
        },
        "id": "M6EITUPDw6fi",
        "outputId": "86cff830-1ccb-4e34-aeb3-76dc7865dbe7"
      },
      "execution_count": null,
      "outputs": [
        {
          "output_type": "stream",
          "name": "stdout",
          "text": [
            "[[0.24675325 0.08554101 0.01850346 ... 0.         1.         0.        ]\n",
            " [0.23376623 0.07050642 0.21817812 ... 0.         1.         0.        ]\n",
            " [0.37662338 0.06911735 0.04941033 ... 0.         0.         1.        ]\n",
            " ...\n",
            " [0.12987013 0.07286692 0.01016673 ... 0.         0.         0.        ]\n",
            " [0.53246753 0.07280337 0.16510777 ... 0.         0.         0.        ]\n",
            " [0.41558442 0.06994353 0.0351769  ... 0.         0.         1.        ]]\n",
            "[-1.  1. -1. ... -1.  1. -1.]\n"
          ]
        }
      ]
    },
    {
      "cell_type": "code",
      "source": [
        "print(\"Porcentaje de acierto en test: \", RL.score(X_test,y_test))\n",
        "print(\"Cota E_out: \", (1-RL.score(X_test,y_test))+np.sqrt(1/(2*y_test.size)*np.log(2/0.05)))"
      ],
      "metadata": {
        "colab": {
          "base_uri": "https://localhost:8080/"
        },
        "id": "dK2GNpUratOh",
        "outputId": "1ac10852-53f7-467c-bac3-79debd17fd01"
      },
      "execution_count": null,
      "outputs": [
        {
          "output_type": "stream",
          "name": "stdout",
          "text": [
            "Porcentaje de acierto en test:  0.8239522282428398\n",
            "Cota E_out:  0.19032934227083848\n"
          ]
        }
      ]
    },
    {
      "cell_type": "markdown",
      "source": [
        "# Curvas de aprendizaje"
      ],
      "metadata": {
        "id": "Ezt-IKqKBQIP"
      }
    },
    {
      "cell_type": "markdown",
      "source": [
        "## Con regularización"
      ],
      "metadata": {
        "id": "lXRk4X64oTWC"
      }
    },
    {
      "cell_type": "code",
      "source": [
        "Eins = []\n",
        "Evals = []\n",
        "Ns = []\n",
        "\n",
        "from sklearn.linear_model import LogisticRegression\n",
        "from sklearn.model_selection import train_test_split\n",
        "\n",
        "RL = LogisticRegression(max_iter=1e3, penalty='l1',solver = 'liblinear',C=1e-1,class_weight=proporciones)\n",
        "\n",
        "from sklearn.model_selection import train_test_split\n",
        "np.random.seed(0)\n",
        "X_train, X_val, y_train, y_val = train_test_split(X,y,test_size=0.2)\n",
        "\n",
        "for i in range(20,y_train.size//20,20):\n",
        "  RL.fit(X_train[:i,:],y_train[:i])\n",
        "  Eins.append(1-RL.score(X_train[:i,:],y_train[:i]))\n",
        "  Evals.append(1-RL.score(X_val,y_val))\n",
        "  Ns.append(i)"
      ],
      "metadata": {
        "id": "oJDCjMNjBWN8",
        "colab": {
          "base_uri": "https://localhost:8080/",
          "height": 415
        },
        "outputId": "061bc902-710d-4d60-c53b-a02bd9038282"
      },
      "execution_count": null,
      "outputs": [
        {
          "output_type": "error",
          "ename": "ValueError",
          "evalue": "ignored",
          "traceback": [
            "\u001b[0;31m---------------------------------------------------------------------------\u001b[0m",
            "\u001b[0;31mValueError\u001b[0m                                Traceback (most recent call last)",
            "\u001b[0;32m<ipython-input-47-1c5f183ab4e9>\u001b[0m in \u001b[0;36m<module>\u001b[0;34m()\u001b[0m\n\u001b[1;32m     13\u001b[0m \u001b[0;34m\u001b[0m\u001b[0m\n\u001b[1;32m     14\u001b[0m \u001b[0;32mfor\u001b[0m \u001b[0mi\u001b[0m \u001b[0;32min\u001b[0m \u001b[0mrange\u001b[0m\u001b[0;34m(\u001b[0m\u001b[0;36m20\u001b[0m\u001b[0;34m,\u001b[0m\u001b[0my_train\u001b[0m\u001b[0;34m.\u001b[0m\u001b[0msize\u001b[0m\u001b[0;34m//\u001b[0m\u001b[0;36m20\u001b[0m\u001b[0;34m,\u001b[0m\u001b[0;36m20\u001b[0m\u001b[0;34m)\u001b[0m\u001b[0;34m:\u001b[0m\u001b[0;34m\u001b[0m\u001b[0;34m\u001b[0m\u001b[0m\n\u001b[0;32m---> 15\u001b[0;31m   \u001b[0mRL\u001b[0m\u001b[0;34m.\u001b[0m\u001b[0mfit\u001b[0m\u001b[0;34m(\u001b[0m\u001b[0mX_train\u001b[0m\u001b[0;34m[\u001b[0m\u001b[0;34m:\u001b[0m\u001b[0mi\u001b[0m\u001b[0;34m,\u001b[0m\u001b[0;34m:\u001b[0m\u001b[0;34m]\u001b[0m\u001b[0;34m,\u001b[0m\u001b[0my_train\u001b[0m\u001b[0;34m[\u001b[0m\u001b[0;34m:\u001b[0m\u001b[0mi\u001b[0m\u001b[0;34m]\u001b[0m\u001b[0;34m)\u001b[0m\u001b[0;34m\u001b[0m\u001b[0;34m\u001b[0m\u001b[0m\n\u001b[0m\u001b[1;32m     16\u001b[0m   \u001b[0mEins\u001b[0m\u001b[0;34m.\u001b[0m\u001b[0mappend\u001b[0m\u001b[0;34m(\u001b[0m\u001b[0;36m1\u001b[0m\u001b[0;34m-\u001b[0m\u001b[0mRL\u001b[0m\u001b[0;34m.\u001b[0m\u001b[0mscore\u001b[0m\u001b[0;34m(\u001b[0m\u001b[0mX_train\u001b[0m\u001b[0;34m[\u001b[0m\u001b[0;34m:\u001b[0m\u001b[0mi\u001b[0m\u001b[0;34m,\u001b[0m\u001b[0;34m:\u001b[0m\u001b[0;34m]\u001b[0m\u001b[0;34m,\u001b[0m\u001b[0my_train\u001b[0m\u001b[0;34m[\u001b[0m\u001b[0;34m:\u001b[0m\u001b[0mi\u001b[0m\u001b[0;34m]\u001b[0m\u001b[0;34m)\u001b[0m\u001b[0;34m)\u001b[0m\u001b[0;34m\u001b[0m\u001b[0;34m\u001b[0m\u001b[0m\n\u001b[1;32m     17\u001b[0m   \u001b[0mEvals\u001b[0m\u001b[0;34m.\u001b[0m\u001b[0mappend\u001b[0m\u001b[0;34m(\u001b[0m\u001b[0;36m1\u001b[0m\u001b[0;34m-\u001b[0m\u001b[0mRL\u001b[0m\u001b[0;34m.\u001b[0m\u001b[0mscore\u001b[0m\u001b[0;34m(\u001b[0m\u001b[0mX_val\u001b[0m\u001b[0;34m,\u001b[0m\u001b[0my_val\u001b[0m\u001b[0;34m)\u001b[0m\u001b[0;34m)\u001b[0m\u001b[0;34m\u001b[0m\u001b[0;34m\u001b[0m\u001b[0m\n",
            "\u001b[0;32m/usr/local/lib/python3.7/dist-packages/sklearn/linear_model/_logistic.py\u001b[0m in \u001b[0;36mfit\u001b[0;34m(self, X, y, sample_weight)\u001b[0m\n\u001b[1;32m   1512\u001b[0m             \u001b[0mdtype\u001b[0m\u001b[0;34m=\u001b[0m\u001b[0m_dtype\u001b[0m\u001b[0;34m,\u001b[0m\u001b[0;34m\u001b[0m\u001b[0;34m\u001b[0m\u001b[0m\n\u001b[1;32m   1513\u001b[0m             \u001b[0morder\u001b[0m\u001b[0;34m=\u001b[0m\u001b[0;34m\"C\"\u001b[0m\u001b[0;34m,\u001b[0m\u001b[0;34m\u001b[0m\u001b[0;34m\u001b[0m\u001b[0m\n\u001b[0;32m-> 1514\u001b[0;31m             \u001b[0maccept_large_sparse\u001b[0m\u001b[0;34m=\u001b[0m\u001b[0msolver\u001b[0m \u001b[0;32mnot\u001b[0m \u001b[0;32min\u001b[0m \u001b[0;34m[\u001b[0m\u001b[0;34m\"liblinear\"\u001b[0m\u001b[0;34m,\u001b[0m \u001b[0;34m\"sag\"\u001b[0m\u001b[0;34m,\u001b[0m \u001b[0;34m\"saga\"\u001b[0m\u001b[0;34m]\u001b[0m\u001b[0;34m,\u001b[0m\u001b[0;34m\u001b[0m\u001b[0;34m\u001b[0m\u001b[0m\n\u001b[0m\u001b[1;32m   1515\u001b[0m         )\n\u001b[1;32m   1516\u001b[0m         \u001b[0mcheck_classification_targets\u001b[0m\u001b[0;34m(\u001b[0m\u001b[0my\u001b[0m\u001b[0;34m)\u001b[0m\u001b[0;34m\u001b[0m\u001b[0;34m\u001b[0m\u001b[0m\n",
            "\u001b[0;32m/usr/local/lib/python3.7/dist-packages/sklearn/base.py\u001b[0m in \u001b[0;36m_validate_data\u001b[0;34m(self, X, y, reset, validate_separately, **check_params)\u001b[0m\n\u001b[1;32m    579\u001b[0m                 \u001b[0my\u001b[0m \u001b[0;34m=\u001b[0m \u001b[0mcheck_array\u001b[0m\u001b[0;34m(\u001b[0m\u001b[0my\u001b[0m\u001b[0;34m,\u001b[0m \u001b[0;34m**\u001b[0m\u001b[0mcheck_y_params\u001b[0m\u001b[0;34m)\u001b[0m\u001b[0;34m\u001b[0m\u001b[0;34m\u001b[0m\u001b[0m\n\u001b[1;32m    580\u001b[0m             \u001b[0;32melse\u001b[0m\u001b[0;34m:\u001b[0m\u001b[0;34m\u001b[0m\u001b[0;34m\u001b[0m\u001b[0m\n\u001b[0;32m--> 581\u001b[0;31m                 \u001b[0mX\u001b[0m\u001b[0;34m,\u001b[0m \u001b[0my\u001b[0m \u001b[0;34m=\u001b[0m \u001b[0mcheck_X_y\u001b[0m\u001b[0;34m(\u001b[0m\u001b[0mX\u001b[0m\u001b[0;34m,\u001b[0m \u001b[0my\u001b[0m\u001b[0;34m,\u001b[0m \u001b[0;34m**\u001b[0m\u001b[0mcheck_params\u001b[0m\u001b[0;34m)\u001b[0m\u001b[0;34m\u001b[0m\u001b[0;34m\u001b[0m\u001b[0m\n\u001b[0m\u001b[1;32m    582\u001b[0m             \u001b[0mout\u001b[0m \u001b[0;34m=\u001b[0m \u001b[0mX\u001b[0m\u001b[0;34m,\u001b[0m \u001b[0my\u001b[0m\u001b[0;34m\u001b[0m\u001b[0;34m\u001b[0m\u001b[0m\n\u001b[1;32m    583\u001b[0m \u001b[0;34m\u001b[0m\u001b[0m\n",
            "\u001b[0;32m/usr/local/lib/python3.7/dist-packages/sklearn/utils/validation.py\u001b[0m in \u001b[0;36mcheck_X_y\u001b[0;34m(X, y, accept_sparse, accept_large_sparse, dtype, order, copy, force_all_finite, ensure_2d, allow_nd, multi_output, ensure_min_samples, ensure_min_features, y_numeric, estimator)\u001b[0m\n\u001b[1;32m    974\u001b[0m         \u001b[0mensure_min_samples\u001b[0m\u001b[0;34m=\u001b[0m\u001b[0mensure_min_samples\u001b[0m\u001b[0;34m,\u001b[0m\u001b[0;34m\u001b[0m\u001b[0;34m\u001b[0m\u001b[0m\n\u001b[1;32m    975\u001b[0m         \u001b[0mensure_min_features\u001b[0m\u001b[0;34m=\u001b[0m\u001b[0mensure_min_features\u001b[0m\u001b[0;34m,\u001b[0m\u001b[0;34m\u001b[0m\u001b[0;34m\u001b[0m\u001b[0m\n\u001b[0;32m--> 976\u001b[0;31m         \u001b[0mestimator\u001b[0m\u001b[0;34m=\u001b[0m\u001b[0mestimator\u001b[0m\u001b[0;34m,\u001b[0m\u001b[0;34m\u001b[0m\u001b[0;34m\u001b[0m\u001b[0m\n\u001b[0m\u001b[1;32m    977\u001b[0m     )\n\u001b[1;32m    978\u001b[0m \u001b[0;34m\u001b[0m\u001b[0m\n",
            "\u001b[0;32m/usr/local/lib/python3.7/dist-packages/sklearn/utils/validation.py\u001b[0m in \u001b[0;36mcheck_array\u001b[0;34m(array, accept_sparse, accept_large_sparse, dtype, order, copy, force_all_finite, ensure_2d, allow_nd, ensure_min_samples, ensure_min_features, estimator)\u001b[0m\n\u001b[1;32m    744\u001b[0m                     \u001b[0marray\u001b[0m \u001b[0;34m=\u001b[0m \u001b[0marray\u001b[0m\u001b[0;34m.\u001b[0m\u001b[0mastype\u001b[0m\u001b[0;34m(\u001b[0m\u001b[0mdtype\u001b[0m\u001b[0;34m,\u001b[0m \u001b[0mcasting\u001b[0m\u001b[0;34m=\u001b[0m\u001b[0;34m\"unsafe\"\u001b[0m\u001b[0;34m,\u001b[0m \u001b[0mcopy\u001b[0m\u001b[0;34m=\u001b[0m\u001b[0;32mFalse\u001b[0m\u001b[0;34m)\u001b[0m\u001b[0;34m\u001b[0m\u001b[0;34m\u001b[0m\u001b[0m\n\u001b[1;32m    745\u001b[0m                 \u001b[0;32melse\u001b[0m\u001b[0;34m:\u001b[0m\u001b[0;34m\u001b[0m\u001b[0;34m\u001b[0m\u001b[0m\n\u001b[0;32m--> 746\u001b[0;31m                     \u001b[0marray\u001b[0m \u001b[0;34m=\u001b[0m \u001b[0mnp\u001b[0m\u001b[0;34m.\u001b[0m\u001b[0masarray\u001b[0m\u001b[0;34m(\u001b[0m\u001b[0marray\u001b[0m\u001b[0;34m,\u001b[0m \u001b[0morder\u001b[0m\u001b[0;34m=\u001b[0m\u001b[0morder\u001b[0m\u001b[0;34m,\u001b[0m \u001b[0mdtype\u001b[0m\u001b[0;34m=\u001b[0m\u001b[0mdtype\u001b[0m\u001b[0;34m)\u001b[0m\u001b[0;34m\u001b[0m\u001b[0;34m\u001b[0m\u001b[0m\n\u001b[0m\u001b[1;32m    747\u001b[0m             \u001b[0;32mexcept\u001b[0m \u001b[0mComplexWarning\u001b[0m \u001b[0;32mas\u001b[0m \u001b[0mcomplex_warning\u001b[0m\u001b[0;34m:\u001b[0m\u001b[0;34m\u001b[0m\u001b[0;34m\u001b[0m\u001b[0m\n\u001b[1;32m    748\u001b[0m                 raise ValueError(\n",
            "\u001b[0;31mValueError\u001b[0m: could not convert string to float: 'admin.'"
          ]
        }
      ]
    },
    {
      "cell_type": "code",
      "source": [
        "import matplotlib.pyplot as plt\n",
        "\n",
        "plt.plot(Ns, Eins, c='b',label='E_in')\n",
        "plt.plot(Ns, Evals, c='r',label='E_val')\n",
        "plt.legend()\n",
        "plt.show()"
      ],
      "metadata": {
        "colab": {
          "base_uri": "https://localhost:8080/",
          "height": 266
        },
        "id": "YxK_3xGIcj5U",
        "outputId": "6b063ffc-bfab-4bf3-957a-102624628fb5"
      },
      "execution_count": null,
      "outputs": [
        {
          "output_type": "display_data",
          "data": {
            "text/plain": [
              "<Figure size 432x288 with 1 Axes>"
            ],
            "image/png": "[encoded data removed]"
          },
          "metadata": {
            "needs_background": "light"
          }
        }
      ]
    },
    {
      "cell_type": "markdown",
      "source": [
        "## Sin regularización"
      ],
      "metadata": {
        "id": "CubXI0J5oWLL"
      }
    },
    {
      "cell_type": "code",
      "source": [
        "RL = LogisticRegression(max_iter=1e4, penalty='none', class_weight=proporciones)\n",
        "\n",
        "Eins = []\n",
        "Evals = []\n",
        "Ns = []\n",
        "\n",
        "for i in range(20,y_train.size//20,20):\n",
        "  RL.fit(X_train[:i,:],y_train[:i])\n",
        "  Eins.append(1-RL.score(X_train[:i,:],y_train[:i]))\n",
        "  Evals.append(1-RL.score(X_val,y_val))\n",
        "  Ns.append(i)"
      ],
      "metadata": {
        "id": "7rsyPE_fcjKm"
      },
      "execution_count": null,
      "outputs": []
    },
    {
      "cell_type": "code",
      "source": [
        "import matplotlib.pyplot as plt\n",
        "\n",
        "plt.plot(Ns, Eins, c='b',label='E_in')\n",
        "plt.plot(Ns, Evals, c='r',label='E_val')\n",
        "plt.legend()\n",
        "plt.show()"
      ],
      "metadata": {
        "colab": {
          "base_uri": "https://localhost:8080/",
          "height": 265
        },
        "id": "8a9unfkvebLg",
        "outputId": "72344ed2-2a54-4dc8-afc4-8c92a0f05c97"
      },
      "execution_count": null,
      "outputs": [
        {
          "output_type": "display_data",
          "data": {
            "text/plain": [
              "<Figure size 432x288 with 1 Axes>"
            ],
            "image/png": "[encoded data removed]"
          },
          "metadata": {
            "needs_background": "light"
          }
        }
      ]
    }
  ]
}